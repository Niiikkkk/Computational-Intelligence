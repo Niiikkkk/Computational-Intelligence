{
 "cells": [
  {
   "cell_type": "code",
   "execution_count": 35,
   "metadata": {},
   "outputs": [],
   "source": [
    "import numpy as np\n",
    "from queue import PriorityQueue"
   ]
  },
  {
   "cell_type": "code",
   "execution_count": 83,
   "metadata": {},
   "outputs": [],
   "source": [
    "initial_state = (np.array([2,5,7,1,-1,8,9,3,4]),np.array([5,1,8,3]))\n"
   ]
  },
  {
   "cell_type": "code",
   "execution_count": 24,
   "metadata": {},
   "outputs": [],
   "source": [
    "def print_state(state):\n",
    "    for j in range(3):\n",
    "        for i in range(3):\n",
    "            print(f\"{state[i+3*j]}\",end=\" \")\n",
    "        print(\"\\n\")"
   ]
  },
  {
   "cell_type": "code",
   "execution_count": 60,
   "metadata": {},
   "outputs": [
    {
     "name": "stdout",
     "output_type": "stream",
     "text": [
      "2 5 7 \n",
      "\n",
      "1 -1 8 \n",
      "\n",
      "9 3 4 \n",
      "\n"
     ]
    }
   ],
   "source": [
    "print_state(initial_state[0])"
   ]
  },
  {
   "cell_type": "code",
   "execution_count": 34,
   "metadata": {},
   "outputs": [],
   "source": [
    "def goal_check(state):\n",
    "    return np.all(state == np.array([1,2,3,4,5,6,7,8,-1]))"
   ]
  },
  {
   "cell_type": "code",
   "execution_count": 84,
   "metadata": {},
   "outputs": [],
   "source": [
    "queue = PriorityQueue()\n",
    "queue.put(initial_state)\n",
    "\n",
    "current_state,state_to_move = queue.get()"
   ]
  },
  {
   "cell_type": "code",
   "execution_count": 165,
   "metadata": {},
   "outputs": [
    {
     "name": "stdout",
     "output_type": "stream",
     "text": [
      "(array([ 2, -1,  7,  1,  5,  8,  9,  3,  4]), array([5, 2, 7]))\n",
      "1\n",
      "Res0.0\n",
      "Res--3.0\n",
      "(array([ 2,  5,  7, -1,  1,  8,  9,  3,  4]), array([2, 9, 1]))\n",
      "3\n",
      "Res3.0\n",
      "Res--6.0\n",
      "(array([ 2,  5,  7,  1,  8, -1,  9,  3,  4]), array([7, 4, 8, 9]))\n",
      "5\n",
      "Res3.0\n",
      "Res--6.0\n",
      "(array([ 2,  5,  7,  1,  3,  8,  9, -1,  4]), array([3, 9, 4]))\n",
      "7\n",
      "Res6.0\n",
      "Res--9.0\n"
     ]
    }
   ],
   "source": [
    "#while not goal_check(current_state):\n",
    "idx_hole = int(np.where(current_state==-1)[0].item())\n",
    "for i in state_to_move:\n",
    "    idx_to_change = int(np.where(current_state==i)[0].item())\n",
    "    tmp = current_state.copy()\n",
    "    tmp[idx_hole] = i\n",
    "    tmp[idx_to_change] = -1\n",
    "    tmp_move = []\n",
    "    if idx_to_change-3>=0:\n",
    "        tmp_move.append(tmp[idx_to_change-3])\n",
    "        \n",
    "    if idx_to_change+3<3*3:\n",
    "        tmp_move.append(tmp[idx_to_change+3])\n",
    "    \n",
    "    if idx_to_change>3*np.floor((idx_to_change+1)/3):\n",
    "        tmp_move.append(tmp[idx_to_change-1])\n",
    "\n",
    "    if idx_to_change<3+3*np.floor((idx_to_change+1)/3):\n",
    "        tmp_move.append(tmp[idx_to_change+1])\n",
    "\n",
    "    new_state = (np.array(tmp),np.array(tmp_move))\n",
    "    \n",
    "    print(new_state)\n",
    "    print(idx_to_change)\n",
    "    print(f\"Res{3*np.floor((idx_to_change)/3)}\")\n",
    "    print(f\"Res--{3+3*np.floor((idx_to_change)/3)}\")\n",
    "        "
   ]
  }
 ],
 "metadata": {
  "kernelspec": {
   "display_name": "venv",
   "language": "python",
   "name": "python3"
  },
  "language_info": {
   "codemirror_mode": {
    "name": "ipython",
    "version": 3
   },
   "file_extension": ".py",
   "mimetype": "text/x-python",
   "name": "python",
   "nbconvert_exporter": "python",
   "pygments_lexer": "ipython3",
   "version": "3.11.6"
  }
 },
 "nbformat": 4,
 "nbformat_minor": 2
}
