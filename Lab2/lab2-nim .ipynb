{
 "cells": [
  {
   "cell_type": "markdown",
   "metadata": {
    "collapsed": false
   },
   "source": [
    "Solution and Notebook made by Riccardo Cardona (https://github.com/Riden15) and Nicholas Berardo (https://github.com/Niiikkkk)"
   ]
  },
  {
   "cell_type": "markdown",
   "metadata": {
    "pycharm": {
     "name": "#%%\n"
    }
   },
   "source": [
    "# Lab 2: ES\n",
    "\n",
    "## Task\n",
    "\n",
    "Write agents able to play [*Nim*](https://en.wikipedia.org/wiki/Nim), with an arbitrary number of rows and an upper bound $k$ on the number of objects that can be removed in a turn (a.k.a., *subtraction game*).\n",
    "\n",
    "The goal of the game is to **avoid** taking the last object.\n",
    "\n",
    "* Task2.1: An agent using fixed rules based on *nim-sum* (i.e., an *expert system*)\n",
    "* Task2.2: An agent using evolved rules using ES\n",
    "\n",
    "## Instructions\n",
    "\n",
    "* Create the directory `lab2` inside the course repo \n",
    "* Put a `README.md` and your solution (all the files, code and auxiliary data if needed)\n",
    "\n",
    "## Notes\n",
    "\n",
    "* Working in group is not only allowed, but recommended (see: [Ubuntu](https://en.wikipedia.org/wiki/Ubuntu_philosophy) and [Cooperative Learning](https://files.eric.ed.gov/fulltext/EJ1096789.pdf)). Collaborations must be explicitly declared in the `README.md`.\n",
    "* [Yanking](https://www.emacswiki.org/emacs/KillingAndYanking) from the internet is allowed, but sources must be explicitly declared in the `README.md`.\n",
    "\n"
   ]
  },
  {
   "cell_type": "code",
   "execution_count": 40,
   "metadata": {
    "ExecuteTime": {
     "end_time": "2023-11-14T21:55:18.983086400Z",
     "start_time": "2023-11-14T21:55:18.971242200Z"
    }
   },
   "outputs": [],
   "source": [
    "import logging\n",
    "from pprint import pprint, pformat\n",
    "from collections import namedtuple\n",
    "import random\n",
    "from copy import deepcopy"
   ]
  },
  {
   "cell_type": "markdown",
   "metadata": {},
   "source": [
    "## The *Nim* and *Nimply* classes"
   ]
  },
  {
   "cell_type": "code",
   "execution_count": 41,
   "metadata": {
    "ExecuteTime": {
     "end_time": "2023-11-14T21:55:18.983086400Z",
     "start_time": "2023-11-14T21:55:18.974310200Z"
    }
   },
   "outputs": [],
   "source": [
    "Nimply = namedtuple(\"Nimply\", \"row, num_objects\")"
   ]
  },
  {
   "cell_type": "code",
   "execution_count": 42,
   "metadata": {
    "ExecuteTime": {
     "end_time": "2023-11-14T21:55:19.014104600Z",
     "start_time": "2023-11-14T21:55:18.979317800Z"
    }
   },
   "outputs": [],
   "source": [
    "class Nim:\n",
    "    def __init__(self, num_rows: int, k: int = None) -> None:\n",
    "        self.initial_rows = [i * 2 + 1 for i in range(num_rows)]\n",
    "        self._rows = self.initial_rows.copy()\n",
    "        self._k = k\n",
    "\n",
    "    def __bool__(self):\n",
    "        return sum(self._rows) > 0\n",
    "\n",
    "    def __str__(self):\n",
    "        return \"<\" + \" \".join(str(_) for _ in self._rows) + \">\"\n",
    "\n",
    "    @property\n",
    "    def rows(self) -> tuple:\n",
    "        return tuple(self._rows)\n",
    "\n",
    "    def nimming(self, ply: Nimply) -> None:\n",
    "        row, num_objects = ply\n",
    "        assert self._rows[row] >= num_objects\n",
    "        assert self._k is None or num_objects <= self._k\n",
    "        self._rows[row] -= num_objects\n",
    "\n",
    "    def reset(self):\n",
    "        self._rows = self.initial_rows.copy()"
   ]
  },
  {
   "cell_type": "markdown",
   "metadata": {},
   "source": [
    "## Sample (and silly) startegies "
   ]
  },
  {
   "cell_type": "code",
   "execution_count": 43,
   "metadata": {
    "ExecuteTime": {
     "end_time": "2023-11-14T21:55:19.015105200Z",
     "start_time": "2023-11-14T21:55:18.983086400Z"
    }
   },
   "outputs": [],
   "source": [
    "def pure_random(state: Nim) -> Nimply:\n",
    "    \"\"\"A completely random move\"\"\"\n",
    "    #takes a row r if the value of that row c is > 0\n",
    "    row = random.choice([r for r, c in enumerate(state.rows) if c > 0])\n",
    "    #take a random value from 1 to the value of the row\n",
    "    num_objects = random.randint(1, state.rows[row])\n",
    "    #subtract it\n",
    "    return Nimply(row, num_objects)\n"
   ]
  },
  {
   "cell_type": "code",
   "execution_count": 44,
   "metadata": {
    "ExecuteTime": {
     "end_time": "2023-11-14T21:55:19.016106200Z",
     "start_time": "2023-11-14T21:55:18.988482300Z"
    }
   },
   "outputs": [],
   "source": [
    "def gabriele(state: Nim) -> Nimply:\n",
    "    \"\"\"Pick always the maximum possible number of the lowest row\"\"\"\n",
    "    possible_moves = [(r, o) for r, c in enumerate(state.rows) for o in range(1, c + 1)]\n",
    "    return Nimply(*max(possible_moves, key=lambda m: (-m[0], m[1])))\n"
   ]
  },
  {
   "cell_type": "code",
   "execution_count": 45,
   "metadata": {
    "ExecuteTime": {
     "end_time": "2023-11-14T21:55:19.071734200Z",
     "start_time": "2023-11-14T21:55:18.993106500Z"
    }
   },
   "outputs": [],
   "source": [
    "import numpy as np\n",
    "\n",
    "#nim_sum mi restituisce XOR in binario delle varie righe che ci sono.\n",
    "#Se ho 1 e 3, quindi 2 righe:\n",
    "# 1 -> 01\n",
    "# 3 -> 11\n",
    "# 1 XOR 3 = 10 -> 2 \n",
    "def nim_sum(state: Nim) -> int:\n",
    "    # {c:032b} mi trasforma il valore di state.rows in binario su 32 bit\n",
    "    tmp = np.array([tuple(int(x) for x in f\"{c:032b}\") for c in state.rows])\n",
    "    #Qua è come se facessi XOR, la posso fare con una somma\n",
    "    xor = tmp.sum(axis=0) % 2\n",
    "    return int(\"\".join(str(_) for _ in xor), base=2)\n",
    "\n",
    "\n",
    "def analize(raw: Nim) -> dict:\n",
    "    cooked = dict()\n",
    "    cooked[\"possible_moves\"] = dict()\n",
    "    for ply in (Nimply(r, o) for r, c in enumerate(raw.rows) for o in range(1, c + 1)):\n",
    "        tmp = deepcopy(raw)\n",
    "        tmp.nimming(ply)\n",
    "        cooked[\"possible_moves\"][ply] = nim_sum(tmp)\n",
    "    return cooked\n",
    "\n",
    "\n",
    "def optimal(state: Nim) -> Nimply:\n",
    "    analysis = analize(state)\n",
    "    logging.debug(f\"analysis:\\n{pformat(analysis)}\")\n",
    "    spicy_moves = [ply for ply, ns in analysis[\"possible_moves\"].items() if ns != 0]\n",
    "    if not spicy_moves:\n",
    "        spicy_moves = list(analysis[\"possible_moves\"].keys())\n",
    "    ply = random.choice(spicy_moves)\n",
    "    return ply"
   ]
  },
  {
   "cell_type": "markdown",
   "metadata": {
    "collapsed": false
   },
   "source": [
    "# Adaptive\n",
    "- ``NimAgent`` is the class that represent an individual. In our problem, the individual is an array of number between 0 and 1 where each number indicates the probability of making a move in the nim row equivalent to the index of the single number in the array.\n",
    "- ``make_move``: is the function that, given the ``state`` of the game, first create a possible move for each row of the game board and then take the best one using the individual's odds."
   ]
  },
  {
   "cell_type": "code",
   "execution_count": 46,
   "metadata": {
    "ExecuteTime": {
     "end_time": "2023-11-14T21:55:19.081551900Z",
     "start_time": "2023-11-14T21:55:19.073733200Z"
    }
   },
   "outputs": [],
   "source": [
    "class NimAgent:\n",
    "    def __init__(self, individual):\n",
    "        self.individual = individual\n",
    "\n",
    "    def __str__(self) -> str:\n",
    "        return str(self.individual)\n",
    "    \n",
    "    def make_move(self, state) -> Nimply:\n",
    "        #(row,obj)\n",
    "        moves = [\n",
    "            (row, min(state.rows[row], max(1, int(self.individual[row] * state.rows[row]))))\n",
    "            for row in range(len(state.rows)) if state.rows[row] > 0]\n",
    "        \n",
    "        # Select the move with the highest preference, the highest preference is the one with the highest genome value. \n",
    "        # Self.individual[x[0]] indicates the probability associated with the row of the game board x[0] that we want to modify\n",
    "        chosen_move = max(moves, key=lambda x: self.individual[x[0]])\n",
    "\n",
    "        # Return the move\n",
    "        return Nimply(*chosen_move) #the * is used for unpacking, chosen_move is an array!!! We want only the element inside"
   ]
  },
  {
   "cell_type": "markdown",
   "metadata": {
    "collapsed": false
   },
   "source": [
    "## Evolutionary algorithm functions\n",
    "\n",
    "- ``reproduce``: function that creates new individuals with ``mutation`` and ``crossover`` based on the ``mutation_probability``.\n",
    "- ``mutation``: function that modifies every probability in the individual selected by the ``reproduce`` function. It modifies the values with a Gaussian distribution making sure that the genome is within 0 and 1 after the mutation.\n",
    "- ``crossover``: It creates a child genome by randomly selecting each gene from either parent with equal probability.\n",
    "- ``replacement``: This function receives as parameters the population, the new individuals crated by the ``reproduce`` function and the ``fitness_score`` that indicates the times one individual wins against the optimal algorithm. In this function we sort the population based on the ``fitness_score`` and replace the worst individuals. In the end, half of the population will be changed and the other half will be preserved."
   ]
  },
  {
   "cell_type": "code",
   "execution_count": 47,
   "metadata": {
    "ExecuteTime": {
     "end_time": "2023-11-14T22:00:13.434955700Z",
     "start_time": "2023-11-14T22:00:13.429441700Z"
    }
   },
   "outputs": [],
   "source": [
    "def reproduce(selected_agents, mutation_rate, mutation_probability):\n",
    "    new_population = []\n",
    "\n",
    "    while len(new_population) < len(selected_agents):\n",
    "        if random.random() < mutation_probability:\n",
    "            parent1 = random.sample(selected_agents, 1)[0]\n",
    "            child_genome = mutation(parent1.individual, mutation_rate)\n",
    "        else:\n",
    "            parent1, parent2 = random.sample(selected_agents, 2)\n",
    "            child_genome = crossover(parent1.individual, parent2.individual)\n",
    "        new_population.append(NimAgent(child_genome))\n",
    "    return new_population\n",
    "\n",
    "def mutation(genome, mutation_rate, mu=0, sigma=1):\n",
    "    for prob in range(len(genome)):\n",
    "        if random.random() < mutation_rate:\n",
    "            mutation = random.gauss(mu,sigma)\n",
    "            genome[prob] = min(max(genome[prob] + mutation, 0), 1) \n",
    "    return genome\n",
    "\n",
    "def crossover(genome1, genome2):\n",
    "    child_genome = [g1 if random.random() > 0.5 else g2 for g1, g2 in zip(genome1, genome2)]\n",
    "    return child_genome\n",
    "\n",
    "def replacement(population, new_population, fitness_scores):\n",
    "    sorted_population = sorted(zip(population, fitness_scores), key=lambda x: x[1], reverse=True) \n",
    "    survivors = sorted_population[:len(population) - len(new_population)]\n",
    "    return [agent for agent, score in survivors] + new_population"
   ]
  },
  {
   "cell_type": "markdown",
   "metadata": {
    "collapsed": false
   },
   "source": [
    "## Populations functions\n",
    "- ``initialize_population``: this function creates a population of size ``population_size`` composed of elements of type ``NimAgent``. This element is composed of an array named ``individual`` with size ``genome_length``. Each value of the array is a random number between 0 and 1 that represents the probability of making a move in the row equivalent to the index of the element in the array.\n",
    "- ``evaluate_population``: this function evaluates the population with the number of wins they can achieve against the optimal algorithm. In a game therefore our algorithm will be based on making a move on the line with greater probability written in an ``individual``. We pass as input the ``population`` that is the array of ``NimAgent``, ``nim`` is the status of the game and ``num_games`` represent the number of matches that the population has to do against the optimal algorithm.\n",
    "- ``select_agents``: this function implements the logic to select the fittest agents and to do that we use a simple tournament selection. it takes 2 random participants from the population and selects the winner based on how many times this individual wins against the optimal algorithm i.e., the ``fitness_score``. We repeat this process until we have half of the ``population_size``."
   ]
  },
  {
   "cell_type": "code",
   "execution_count": 48,
   "metadata": {
    "ExecuteTime": {
     "end_time": "2023-11-14T21:55:19.090610200Z",
     "start_time": "2023-11-14T21:55:19.083552Z"
    }
   },
   "outputs": [],
   "source": [
    "def initialize_population(pop_size, genome_length):\n",
    "    population = [NimAgent([random.random() for _ in range(genome_length)]) for _ in range(pop_size)]\n",
    "    return population\n",
    "\n",
    "def evaluate_population(population : [NimAgent], nim: Nim, num_games: int):\n",
    "    wins = []\n",
    "    for individual in population:\n",
    "        strategy = (optimal,individual.make_move)\n",
    "        win = 0\n",
    "        for _ in range(num_games):\n",
    "            nim.reset()\n",
    "            player = 0\n",
    "            while nim:\n",
    "                if player == 1:\n",
    "                    ply = strategy[player](nim)\n",
    "                else:\n",
    "                    ply = strategy[player](nim)\n",
    "                nim.nimming(ply)\n",
    "                player = 1 - player\n",
    "            if player == 1:\n",
    "                win+=1\n",
    "        wins.append(win)\n",
    "    return wins\n",
    "\n",
    "def select_agents(population, fitness_scores):\n",
    "    selected = []\n",
    "    while len(selected) < len(population) // 2:\n",
    "        participant = random.sample(list(zip(population, fitness_scores)), 2)\n",
    "        winner = max(participant, key=lambda x: x[1])\n",
    "        selected.append(winner[0])\n",
    "    return selected"
   ]
  },
  {
   "cell_type": "markdown",
   "metadata": {
    "collapsed": false
   },
   "source": [
    "## Evolution Strategy\n",
    "\n",
    "Problem parameters:\n",
    "- ``nim``: Object of type Nim with the status of the game\n",
    "- ``generations``: number of generations of population to create\n",
    "- ``population_size``: size of the population\n",
    "- ``initial_mutation_rate``: probability to do mutation\n",
    "- ``wins_goal``: number of victories to be achieved to finish the creation of new generations first\n",
    "- ``num_games``: number of games against the optimal algorithm to adjust the fitness scores\n",
    "- ``mutation_probability``: probability to do mutation instead of crossover\n",
    "\n",
    "In the ``evolutionary_strategy`` function, we implement the logic of the Evolutionary Algorithm. It returns the population with the best individual found."
   ]
  },
  {
   "cell_type": "code",
   "execution_count": 49,
   "metadata": {
    "collapsed": false
   },
   "outputs": [],
   "source": [
    "GENERATIONS = 50\n",
    "POPULATION_SIZE = 10\n",
    "INITIAL_MUTATION_RATE = 0.5\n",
    "WINS_GOAL = 90\n",
    "NUM_GAMES = 100\n",
    "MUTATION_PROBABILITY = 0.3"
   ]
  },
  {
   "cell_type": "code",
   "execution_count": 50,
   "metadata": {
    "ExecuteTime": {
     "end_time": "2023-11-14T21:55:19.091616600Z",
     "start_time": "2023-11-14T21:55:19.086935700Z"
    }
   },
   "outputs": [],
   "source": [
    "def evolutionary_strategy(nim, generations, population_size, initial_mutation_rate, wins_goal, num_games, mutation_probability):\n",
    "    population = initialize_population(population_size, len(nim.rows))\n",
    "    best_individual = None\n",
    "    best_fitness = -1\n",
    "    mutation_rate = initial_mutation_rate\n",
    "\n",
    "    for generation in range(generations):\n",
    "        fitness_scores = evaluate_population(population, nim, num_games)\n",
    "\n",
    "        # The best score is halved to report the number of wins, since each win is worth double points in the scoring system.\n",
    "        print(f\"Generation {generation}: Best score {max(fitness_scores)} wins\")\n",
    "\n",
    "        # Check for termination condition (e.g., a perfect score)\n",
    "        if max(fitness_scores) >= wins_goal:\n",
    "            print(\"Stopping early, reached perfect score!\")\n",
    "            break\n",
    "\n",
    "        # Selection\n",
    "        selected_agents = select_agents(population, fitness_scores)\n",
    "\n",
    "        # Reproduction\n",
    "        new_population = reproduce(selected_agents, mutation_rate, mutation_probability)\n",
    "\n",
    "        # Replacement\n",
    "        population = replacement(population, new_population, fitness_scores)\n",
    "        \n",
    "        # Check if the new best individual is found\n",
    "        max_fitness = max(fitness_scores)\n",
    "        if max_fitness > best_fitness:\n",
    "            best_fitness = max_fitness\n",
    "            best_individual_index = fitness_scores.index(max_fitness)\n",
    "            best_individual = population[best_individual_index]\n",
    "\n",
    "    return population, best_individual"
   ]
  },
  {
   "cell_type": "markdown",
   "metadata": {
    "collapsed": false
   },
   "source": [
    "## Code test"
   ]
  },
  {
   "cell_type": "code",
   "execution_count": 51,
   "metadata": {},
   "outputs": [
    {
     "name": "stdout",
     "output_type": "stream",
     "text": [
      "Generation 0: Best score 36 wins\n"
     ]
    },
    {
     "ename": "KeyboardInterrupt",
     "evalue": "",
     "output_type": "error",
     "traceback": [
      "\u001b[0;31m---------------------------------------------------------------------------\u001b[0m",
      "\u001b[0;31mKeyboardInterrupt\u001b[0m                         Traceback (most recent call last)",
      "\u001b[1;32m/Users/nicholas.berardo/Desktop/Polito_LABS/Computational-Intelligence/Lab2/lab2-nim .ipynb Cell 21\u001b[0m line \u001b[0;36m2\n\u001b[1;32m      <a href='vscode-notebook-cell:/Users/nicholas.berardo/Desktop/Polito_LABS/Computational-Intelligence/Lab2/lab2-nim%20.ipynb#X26sZmlsZQ%3D%3D?line=0'>1</a>\u001b[0m nim \u001b[39m=\u001b[39m Nim(\u001b[39m5\u001b[39m)\n\u001b[0;32m----> <a href='vscode-notebook-cell:/Users/nicholas.berardo/Desktop/Polito_LABS/Computational-Intelligence/Lab2/lab2-nim%20.ipynb#X26sZmlsZQ%3D%3D?line=1'>2</a>\u001b[0m pop, best_ind \u001b[39m=\u001b[39m evolutionary_strategy(nim,GENERATIONS,POPULATION_SIZE,INITIAL_MUTATION_RATE,WINS_GOAL,NUM_GAMES,MUTATION_PROBABILITY)\n",
      "\u001b[1;32m/Users/nicholas.berardo/Desktop/Polito_LABS/Computational-Intelligence/Lab2/lab2-nim .ipynb Cell 21\u001b[0m line \u001b[0;36m8\n\u001b[1;32m      <a href='vscode-notebook-cell:/Users/nicholas.berardo/Desktop/Polito_LABS/Computational-Intelligence/Lab2/lab2-nim%20.ipynb#X26sZmlsZQ%3D%3D?line=4'>5</a>\u001b[0m mutation_rate \u001b[39m=\u001b[39m initial_mutation_rate\n\u001b[1;32m      <a href='vscode-notebook-cell:/Users/nicholas.berardo/Desktop/Polito_LABS/Computational-Intelligence/Lab2/lab2-nim%20.ipynb#X26sZmlsZQ%3D%3D?line=6'>7</a>\u001b[0m \u001b[39mfor\u001b[39;00m generation \u001b[39min\u001b[39;00m \u001b[39mrange\u001b[39m(generations):\n\u001b[0;32m----> <a href='vscode-notebook-cell:/Users/nicholas.berardo/Desktop/Polito_LABS/Computational-Intelligence/Lab2/lab2-nim%20.ipynb#X26sZmlsZQ%3D%3D?line=7'>8</a>\u001b[0m     fitness_scores \u001b[39m=\u001b[39m evaluate_population(population, nim, num_games)\n\u001b[1;32m     <a href='vscode-notebook-cell:/Users/nicholas.berardo/Desktop/Polito_LABS/Computational-Intelligence/Lab2/lab2-nim%20.ipynb#X26sZmlsZQ%3D%3D?line=9'>10</a>\u001b[0m     \u001b[39m# The best score is halved to report the number of wins, since each win is worth double points in the scoring system.\u001b[39;00m\n\u001b[1;32m     <a href='vscode-notebook-cell:/Users/nicholas.berardo/Desktop/Polito_LABS/Computational-Intelligence/Lab2/lab2-nim%20.ipynb#X26sZmlsZQ%3D%3D?line=10'>11</a>\u001b[0m     \u001b[39mprint\u001b[39m(\u001b[39mf\u001b[39m\u001b[39m\"\u001b[39m\u001b[39mGeneration \u001b[39m\u001b[39m{\u001b[39;00mgeneration\u001b[39m}\u001b[39;00m\u001b[39m: Best score \u001b[39m\u001b[39m{\u001b[39;00m\u001b[39mmax\u001b[39m(fitness_scores)\u001b[39m}\u001b[39;00m\u001b[39m wins\u001b[39m\u001b[39m\"\u001b[39m)\n",
      "\u001b[1;32m/Users/nicholas.berardo/Desktop/Polito_LABS/Computational-Intelligence/Lab2/lab2-nim .ipynb Cell 21\u001b[0m line \u001b[0;36m1\n\u001b[1;32m     <a href='vscode-notebook-cell:/Users/nicholas.berardo/Desktop/Polito_LABS/Computational-Intelligence/Lab2/lab2-nim%20.ipynb#X26sZmlsZQ%3D%3D?line=14'>15</a>\u001b[0m     ply \u001b[39m=\u001b[39m strategy[player](nim)\n\u001b[1;32m     <a href='vscode-notebook-cell:/Users/nicholas.berardo/Desktop/Polito_LABS/Computational-Intelligence/Lab2/lab2-nim%20.ipynb#X26sZmlsZQ%3D%3D?line=15'>16</a>\u001b[0m \u001b[39melse\u001b[39;00m:\n\u001b[0;32m---> <a href='vscode-notebook-cell:/Users/nicholas.berardo/Desktop/Polito_LABS/Computational-Intelligence/Lab2/lab2-nim%20.ipynb#X26sZmlsZQ%3D%3D?line=16'>17</a>\u001b[0m     ply \u001b[39m=\u001b[39m strategy[player](nim)\n\u001b[1;32m     <a href='vscode-notebook-cell:/Users/nicholas.berardo/Desktop/Polito_LABS/Computational-Intelligence/Lab2/lab2-nim%20.ipynb#X26sZmlsZQ%3D%3D?line=17'>18</a>\u001b[0m nim\u001b[39m.\u001b[39mnimming(ply)\n\u001b[1;32m     <a href='vscode-notebook-cell:/Users/nicholas.berardo/Desktop/Polito_LABS/Computational-Intelligence/Lab2/lab2-nim%20.ipynb#X26sZmlsZQ%3D%3D?line=18'>19</a>\u001b[0m player \u001b[39m=\u001b[39m \u001b[39m1\u001b[39m \u001b[39m-\u001b[39m player\n",
      "\u001b[1;32m/Users/nicholas.berardo/Desktop/Polito_LABS/Computational-Intelligence/Lab2/lab2-nim .ipynb Cell 21\u001b[0m line \u001b[0;36m2\n\u001b[1;32m     <a href='vscode-notebook-cell:/Users/nicholas.berardo/Desktop/Polito_LABS/Computational-Intelligence/Lab2/lab2-nim%20.ipynb#X26sZmlsZQ%3D%3D?line=25'>26</a>\u001b[0m \u001b[39mdef\u001b[39;00m \u001b[39moptimal\u001b[39m(state: Nim) \u001b[39m-\u001b[39m\u001b[39m>\u001b[39m Nimply:\n\u001b[0;32m---> <a href='vscode-notebook-cell:/Users/nicholas.berardo/Desktop/Polito_LABS/Computational-Intelligence/Lab2/lab2-nim%20.ipynb#X26sZmlsZQ%3D%3D?line=26'>27</a>\u001b[0m     analysis \u001b[39m=\u001b[39m analize(state)\n\u001b[1;32m     <a href='vscode-notebook-cell:/Users/nicholas.berardo/Desktop/Polito_LABS/Computational-Intelligence/Lab2/lab2-nim%20.ipynb#X26sZmlsZQ%3D%3D?line=27'>28</a>\u001b[0m     logging\u001b[39m.\u001b[39mdebug(\u001b[39mf\u001b[39m\u001b[39m\"\u001b[39m\u001b[39manalysis:\u001b[39m\u001b[39m\\n\u001b[39;00m\u001b[39m{\u001b[39;00mpformat(analysis)\u001b[39m}\u001b[39;00m\u001b[39m\"\u001b[39m)\n\u001b[1;32m     <a href='vscode-notebook-cell:/Users/nicholas.berardo/Desktop/Polito_LABS/Computational-Intelligence/Lab2/lab2-nim%20.ipynb#X26sZmlsZQ%3D%3D?line=28'>29</a>\u001b[0m     spicy_moves \u001b[39m=\u001b[39m [ply \u001b[39mfor\u001b[39;00m ply, ns \u001b[39min\u001b[39;00m analysis[\u001b[39m\"\u001b[39m\u001b[39mpossible_moves\u001b[39m\u001b[39m\"\u001b[39m]\u001b[39m.\u001b[39mitems() \u001b[39mif\u001b[39;00m ns \u001b[39m!=\u001b[39m \u001b[39m0\u001b[39m]\n",
      "\u001b[1;32m/Users/nicholas.berardo/Desktop/Polito_LABS/Computational-Intelligence/Lab2/lab2-nim .ipynb Cell 21\u001b[0m line \u001b[0;36m2\n\u001b[1;32m     <a href='vscode-notebook-cell:/Users/nicholas.berardo/Desktop/Polito_LABS/Computational-Intelligence/Lab2/lab2-nim%20.ipynb#X26sZmlsZQ%3D%3D?line=19'>20</a>\u001b[0m     tmp \u001b[39m=\u001b[39m deepcopy(raw)\n\u001b[1;32m     <a href='vscode-notebook-cell:/Users/nicholas.berardo/Desktop/Polito_LABS/Computational-Intelligence/Lab2/lab2-nim%20.ipynb#X26sZmlsZQ%3D%3D?line=20'>21</a>\u001b[0m     tmp\u001b[39m.\u001b[39mnimming(ply)\n\u001b[0;32m---> <a href='vscode-notebook-cell:/Users/nicholas.berardo/Desktop/Polito_LABS/Computational-Intelligence/Lab2/lab2-nim%20.ipynb#X26sZmlsZQ%3D%3D?line=21'>22</a>\u001b[0m     cooked[\u001b[39m\"\u001b[39m\u001b[39mpossible_moves\u001b[39m\u001b[39m\"\u001b[39m][ply] \u001b[39m=\u001b[39m nim_sum(tmp)\n\u001b[1;32m     <a href='vscode-notebook-cell:/Users/nicholas.berardo/Desktop/Polito_LABS/Computational-Intelligence/Lab2/lab2-nim%20.ipynb#X26sZmlsZQ%3D%3D?line=22'>23</a>\u001b[0m \u001b[39mreturn\u001b[39;00m cooked\n",
      "\u001b[1;32m/Users/nicholas.berardo/Desktop/Polito_LABS/Computational-Intelligence/Lab2/lab2-nim .ipynb Cell 21\u001b[0m line \u001b[0;36m1\n\u001b[1;32m     <a href='vscode-notebook-cell:/Users/nicholas.berardo/Desktop/Polito_LABS/Computational-Intelligence/Lab2/lab2-nim%20.ipynb#X26sZmlsZQ%3D%3D?line=10'>11</a>\u001b[0m \u001b[39m#Qua è come se facessi XOR, la posso fare con una somma\u001b[39;00m\n\u001b[1;32m     <a href='vscode-notebook-cell:/Users/nicholas.berardo/Desktop/Polito_LABS/Computational-Intelligence/Lab2/lab2-nim%20.ipynb#X26sZmlsZQ%3D%3D?line=11'>12</a>\u001b[0m xor \u001b[39m=\u001b[39m tmp\u001b[39m.\u001b[39msum(axis\u001b[39m=\u001b[39m\u001b[39m0\u001b[39m) \u001b[39m%\u001b[39m \u001b[39m2\u001b[39m\n\u001b[0;32m---> <a href='vscode-notebook-cell:/Users/nicholas.berardo/Desktop/Polito_LABS/Computational-Intelligence/Lab2/lab2-nim%20.ipynb#X26sZmlsZQ%3D%3D?line=12'>13</a>\u001b[0m \u001b[39mreturn\u001b[39;00m \u001b[39mint\u001b[39m(\u001b[39m\"\u001b[39m\u001b[39m\"\u001b[39m\u001b[39m.\u001b[39mjoin(\u001b[39mstr\u001b[39m(_) \u001b[39mfor\u001b[39;00m _ \u001b[39min\u001b[39;00m xor), base\u001b[39m=\u001b[39m\u001b[39m2\u001b[39m)\n",
      "\u001b[1;32m/Users/nicholas.berardo/Desktop/Polito_LABS/Computational-Intelligence/Lab2/lab2-nim .ipynb Cell 21\u001b[0m line \u001b[0;36m1\n\u001b[1;32m     <a href='vscode-notebook-cell:/Users/nicholas.berardo/Desktop/Polito_LABS/Computational-Intelligence/Lab2/lab2-nim%20.ipynb#X26sZmlsZQ%3D%3D?line=10'>11</a>\u001b[0m \u001b[39m#Qua è come se facessi XOR, la posso fare con una somma\u001b[39;00m\n\u001b[1;32m     <a href='vscode-notebook-cell:/Users/nicholas.berardo/Desktop/Polito_LABS/Computational-Intelligence/Lab2/lab2-nim%20.ipynb#X26sZmlsZQ%3D%3D?line=11'>12</a>\u001b[0m xor \u001b[39m=\u001b[39m tmp\u001b[39m.\u001b[39msum(axis\u001b[39m=\u001b[39m\u001b[39m0\u001b[39m) \u001b[39m%\u001b[39m \u001b[39m2\u001b[39m\n\u001b[0;32m---> <a href='vscode-notebook-cell:/Users/nicholas.berardo/Desktop/Polito_LABS/Computational-Intelligence/Lab2/lab2-nim%20.ipynb#X26sZmlsZQ%3D%3D?line=12'>13</a>\u001b[0m \u001b[39mreturn\u001b[39;00m \u001b[39mint\u001b[39m(\u001b[39m\"\u001b[39m\u001b[39m\"\u001b[39m\u001b[39m.\u001b[39mjoin(\u001b[39mstr\u001b[39m(_) \u001b[39mfor\u001b[39;00m _ \u001b[39min\u001b[39;00m xor), base\u001b[39m=\u001b[39m\u001b[39m2\u001b[39m)\n",
      "\u001b[0;31mKeyboardInterrupt\u001b[0m: "
     ]
    }
   ],
   "source": [
    "nim = Nim(5)\n",
    "pop, best_ind = evolutionary_strategy(nim,GENERATIONS,POPULATION_SIZE,INITIAL_MUTATION_RATE,WINS_GOAL,NUM_GAMES,MUTATION_PROBABILITY)"
   ]
  },
  {
   "cell_type": "markdown",
   "metadata": {},
   "source": [
    "## Oversimplified match"
   ]
  },
  {
   "cell_type": "code",
   "execution_count": null,
   "metadata": {
    "ExecuteTime": {
     "end_time": "2023-11-14T21:55:20.902370400Z",
     "start_time": "2023-11-14T21:55:20.901369700Z"
    }
   },
   "outputs": [
    {
     "name": "stderr",
     "output_type": "stream",
     "text": [
      "INFO:root:init : <1 3 5 7 9>\n",
      "INFO:root:ply: player 0 plays Nimply(row=3, num_objects=5)\n",
      "INFO:root:status: <1 3 5 2 9>\n",
      "INFO:root:ply: player 1 plays Nimply(row=1, num_objects=3)\n",
      "INFO:root:status: <1 0 5 2 9>\n",
      "INFO:root:ply: player 0 plays Nimply(row=0, num_objects=1)\n",
      "INFO:root:status: <0 0 5 2 9>\n",
      "INFO:root:ply: player 1 plays Nimply(row=3, num_objects=2)\n",
      "INFO:root:status: <0 0 5 0 9>\n",
      "INFO:root:ply: player 0 plays Nimply(row=4, num_objects=7)\n",
      "INFO:root:status: <0 0 5 0 2>\n",
      "INFO:root:ply: player 1 plays Nimply(row=4, num_objects=2)\n",
      "INFO:root:status: <0 0 5 0 0>\n",
      "INFO:root:ply: player 0 plays Nimply(row=2, num_objects=1)\n",
      "INFO:root:status: <0 0 4 0 0>\n",
      "INFO:root:ply: player 1 plays Nimply(row=2, num_objects=1)\n",
      "INFO:root:status: <0 0 3 0 0>\n",
      "INFO:root:ply: player 0 plays Nimply(row=2, num_objects=2)\n",
      "INFO:root:status: <0 0 1 0 0>\n",
      "INFO:root:ply: player 1 plays Nimply(row=2, num_objects=1)\n",
      "INFO:root:status: <0 0 0 0 0>\n",
      "INFO:root:status: Player 0 won!\n"
     ]
    }
   ],
   "source": [
    "logging.getLogger().setLevel(logging.INFO)\n",
    "\n",
    "strategy = (optimal, best_ind.make_move)\n",
    "\n",
    "nim = Nim(5)\n",
    "logging.info(f\"init : {nim}\")\n",
    "player = 0\n",
    "while nim:\n",
    "    if player == 1 :\n",
    "        ply = strategy[player](nim)\n",
    "    else:\n",
    "        ply = strategy[player](nim)\n",
    "    logging.info(f\"ply: player {player} plays {ply}\")\n",
    "    nim.nimming(ply)\n",
    "    logging.info(f\"status: {nim}\")\n",
    "    player = 1 - player\n",
    "logging.info(f\"status: Player {player} won!\")\n"
   ]
  }
 ],
 "metadata": {
  "kernelspec": {
   "display_name": "Python 3.10.7 ('ci22-dPIXJ0_o-py3.10')",
   "language": "python",
   "name": "python3"
  },
  "language_info": {
   "codemirror_mode": {
    "name": "ipython",
    "version": 3
   },
   "file_extension": ".py",
   "mimetype": "text/x-python",
   "name": "python",
   "nbconvert_exporter": "python",
   "pygments_lexer": "ipython3",
   "version": "3.11.6"
  },
  "vscode": {
   "interpreter": {
    "hash": "10197e8e2f2aa67e2c349105091c77f4cd384fce4877865f002d9ec653f96bc0"
   }
  }
 },
 "nbformat": 4,
 "nbformat_minor": 2
}
