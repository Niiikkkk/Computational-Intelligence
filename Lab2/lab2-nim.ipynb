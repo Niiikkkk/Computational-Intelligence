{
 "cells": [
  {
   "cell_type": "markdown",
   "metadata": {
    "pycharm": {
     "name": "#%% md\n"
    }
   },
   "source": [
    "Copyright **`(c)`** 2022 Giovanni Squillero `<squillero@polito.it>`  \n",
    "[`https://github.com/squillero/computational-intelligence`](https://github.com/squillero/computational-intelligence)  \n",
    "Free for personal or classroom use; see [`LICENSE.md`](https://github.com/squillero/computational-intelligence/blob/master/LICENSE.md) for details.  \n"
   ]
  },
  {
   "cell_type": "markdown",
   "metadata": {
    "pycharm": {
     "name": "#%%\n"
    }
   },
   "source": [
    "# Lab 2: ES\n",
    "\n",
    "## Task\n",
    "\n",
    "Write agents able to play [*Nim*](https://en.wikipedia.org/wiki/Nim), with an arbitrary number of rows and an upper bound $k$ on the number of objects that can be removed in a turn (a.k.a., *subtraction game*).\n",
    "\n",
    "The goal of the game is to **avoid** taking the last object.\n",
    "\n",
    "* Task2.1: An agent using fixed rules based on *nim-sum* (i.e., an *expert system*)\n",
    "* Task2.2: An agent using evolved rules using ES\n",
    "\n",
    "## Instructions\n",
    "\n",
    "* Create the directory `lab2` inside the course repo \n",
    "* Put a `README.md` and your solution (all the files, code and auxiliary data if needed)\n",
    "\n",
    "## Notes\n",
    "\n",
    "* Working in group is not only allowed, but recommended (see: [Ubuntu](https://en.wikipedia.org/wiki/Ubuntu_philosophy) and [Cooperative Learning](https://files.eric.ed.gov/fulltext/EJ1096789.pdf)). Collaborations must be explicitly declared in the `README.md`.\n",
    "* [Yanking](https://www.emacswiki.org/emacs/KillingAndYanking) from the internet is allowed, but sources must be explicitly declared in the `README.md`.\n",
    "\n"
   ]
  },
  {
   "cell_type": "code",
   "execution_count": 145,
   "metadata": {},
   "outputs": [],
   "source": [
    "import logging\n",
    "from pprint import pprint, pformat\n",
    "from collections import namedtuple\n",
    "import random\n",
    "from copy import deepcopy\n"
   ]
  },
  {
   "cell_type": "markdown",
   "metadata": {},
   "source": [
    "## The *Nim* and *Nimply* classes"
   ]
  },
  {
   "cell_type": "code",
   "execution_count": 146,
   "metadata": {},
   "outputs": [],
   "source": [
    "Nimply = namedtuple(\"Nimply\", \"row, num_objects\")"
   ]
  },
  {
   "cell_type": "code",
   "execution_count": 147,
   "metadata": {},
   "outputs": [],
   "source": [
    "class Nim:\n",
    "    def __init__(self, num_rows: int, k: int = None) -> None:\n",
    "        self.initial_rows = [i * 2 + 1 for i in range(num_rows)]\n",
    "        self._rows = self.initial_rows.copy()\n",
    "        self._k = k\n",
    "\n",
    "    def __bool__(self):\n",
    "        return sum(self._rows) > 0\n",
    "\n",
    "    def __str__(self):\n",
    "        return \"<\" + \" \".join(str(_) for _ in self._rows) + \">\"\n",
    "\n",
    "    @property\n",
    "    def rows(self) -> tuple:\n",
    "        return tuple(self._rows)\n",
    "\n",
    "    def nimming(self, ply: Nimply) -> None:\n",
    "        row, num_objects = ply\n",
    "        assert self._rows[row] >= num_objects\n",
    "        assert self._k is None or num_objects <= self._k\n",
    "        self._rows[row] -= num_objects\n",
    "\n",
    "    def reset(self):\n",
    "        self._rows = self.initial_rows.copy()\n"
   ]
  },
  {
   "cell_type": "markdown",
   "metadata": {},
   "source": [
    "## Sample (and silly) startegies "
   ]
  },
  {
   "cell_type": "code",
   "execution_count": 148,
   "metadata": {},
   "outputs": [],
   "source": [
    "def pure_random(state: Nim) -> Nimply:\n",
    "    \"\"\"A completely random move\"\"\"\n",
    "    #takes a row r if the value of that row c is > 0\n",
    "    row = random.choice([r for r, c in enumerate(state.rows) if c > 0])\n",
    "    #take a random value from 1 to the value of the row\n",
    "    num_objects = random.randint(1, state.rows[row])\n",
    "    #subtract it\n",
    "    return Nimply(row, num_objects)\n"
   ]
  },
  {
   "cell_type": "code",
   "execution_count": 149,
   "metadata": {},
   "outputs": [],
   "source": [
    "def gabriele(state: Nim) -> Nimply:\n",
    "    \"\"\"Pick always the maximum possible number of the lowest row\"\"\"\n",
    "    possible_moves = [(r, o) for r, c in enumerate(state.rows) for o in range(1, c + 1)]\n",
    "    return Nimply(*max(possible_moves, key=lambda m: (-m[0], m[1])))\n"
   ]
  },
  {
   "cell_type": "code",
   "execution_count": 150,
   "metadata": {},
   "outputs": [],
   "source": [
    "import numpy as np\n",
    "\n",
    "#nim_sum mi restituisce XOR in binario delle varie righe che ci sono.\n",
    "#Se ho 1 e 3, quindi 2 righe:\n",
    "# 1 -> 01\n",
    "# 3 -> 11\n",
    "# 1 XOR 3 = 10 -> 2 \n",
    "def nim_sum(state: Nim) -> int:\n",
    "    # {c:032b} mi trasforma il valore di state.rows in binario su 32 bit\n",
    "    tmp = np.array([tuple(int(x) for x in f\"{c:032b}\") for c in state.rows])\n",
    "    #Qua è come se facessi XOR, la posso fare con una somma\n",
    "    xor = tmp.sum(axis=0) % 2\n",
    "    return int(\"\".join(str(_) for _ in xor), base=2)\n",
    "\n",
    "\n",
    "def analize(raw: Nim) -> dict:\n",
    "    cooked = dict()\n",
    "    cooked[\"possible_moves\"] = dict()\n",
    "    for ply in (Nimply(r, o) for r, c in enumerate(raw.rows) for o in range(1, c + 1)):\n",
    "        tmp = deepcopy(raw)\n",
    "        tmp.nimming(ply)\n",
    "        cooked[\"possible_moves\"][ply] = nim_sum(tmp)\n",
    "    return cooked\n",
    "\n",
    "\n",
    "def optimal(state: Nim) -> Nimply:\n",
    "    analysis = analize(state)\n",
    "    logging.debug(f\"analysis:\\n{pformat(analysis)}\")\n",
    "    spicy_moves = [ply for ply, ns in analysis[\"possible_moves\"].items() if ns != 0]\n",
    "    if not spicy_moves:\n",
    "        spicy_moves = list(analysis[\"possible_moves\"].keys())\n",
    "    ply = random.choice(spicy_moves)\n",
    "    return ply"
   ]
  },
  {
   "cell_type": "markdown",
   "metadata": {},
   "source": [
    "## Adaptative"
   ]
  },
  {
   "cell_type": "code",
   "execution_count": 151,
   "metadata": {},
   "outputs": [],
   "source": [
    "class NimAgent:\n",
    "    def __init__(self, individual):\n",
    "        self.individual = individual\n",
    "\n",
    "    def make_move(self, state) -> Nimply:\n",
    "        #(row,obj)\n",
    "        moves = [\n",
    "            (row, min(state.rows[row], max(1, int(self.individual[row] * state.rows[row]))))\n",
    "            for row in range(len(state.rows)) if state.rows[row] > 0\n",
    "        ]\n",
    "\n",
    "        # Select the move with the highest preference\n",
    "        # the highest preference is the onw with the highest genome value\n",
    "        chosen_move = max(moves, key=lambda x: self.individual[x[0]])\n",
    "\n",
    "        # Return the move\n",
    "        return Nimply(*chosen_move)\n",
    "    \n",
    "    def __str__(self) -> str:\n",
    "        return str(self.individual)"
   ]
  },
  {
   "cell_type": "code",
   "execution_count": 152,
   "metadata": {},
   "outputs": [],
   "source": [
    "def crossover(genome1, genome2):\n",
    "    # Implemented uniform crossover\n",
    "    # Creates a child genome by randomly selecting each gene from either parent with equal probability.\n",
    "    child_genome = [g1 if random.random() > 0.5 else g2 for g1, g2 in zip(genome1, genome2)]\n",
    "    return child_genome\n",
    "\n",
    "def mutate(genome, mutation_rate, mu=0, sigma=1):\n",
    "    # Ensure genome is within bounds after mutation\n",
    "    for i in range(len(genome)):\n",
    "        if random.random() < mutation_rate:\n",
    "            mutation = random.gauss(mu,sigma)\n",
    "            genome[i] = min(max(genome[i] + mutation, 0), 1)  # Keep genome within [0, 1]\n",
    "    return genome"
   ]
  },
  {
   "cell_type": "code",
   "execution_count": 153,
   "metadata": {},
   "outputs": [],
   "source": [
    "def select_agents(population, fitness_scores):\n",
    "    # Logic to select the fittest agents\n",
    "    # Let's use a simple tournament selection\n",
    "    selected = []\n",
    "    while len(selected) < len(population) // 2:\n",
    "        participant = random.sample(list(zip(population, fitness_scores)), 2)\n",
    "        winner = max(participant, key=lambda x: x[1])\n",
    "        selected.append(winner[0])\n",
    "    return selected"
   ]
  },
  {
   "cell_type": "code",
   "execution_count": 154,
   "metadata": {},
   "outputs": [],
   "source": [
    "def reproduce(selected_agents, mutation_rate, mutation_probability):\n",
    "    new_population = []\n",
    "\n",
    "    while len(new_population) < len(selected_agents):\n",
    "        if random.random() < mutation_probability:\n",
    "            parent1 = random.sample(selected_agents, 1)[0]\n",
    "            child_genome = mutate(parent1.individual, mutation_rate)\n",
    "        else:\n",
    "            parent1, parent2 = random.sample(selected_agents, 2)\n",
    "            child_genome = crossover(parent1.individual, parent2.individual)\n",
    "        new_population.append(NimAgent(child_genome))\n",
    "    return new_population"
   ]
  },
  {
   "cell_type": "code",
   "execution_count": 155,
   "metadata": {},
   "outputs": [],
   "source": [
    "def replacement(population, new_population, fitness_scores):\n",
    "    # Sort the population by fitness and replace the worst ones\n",
    "    sorted_population = sorted(zip(population, fitness_scores), key=lambda x: x[1]) \n",
    "    survivors = sorted_population[:len(population) - len(new_population)]\n",
    "    # In the end half of the population will be changed and the other half will be preserved\n",
    "    return [agent for agent, score in survivors] + new_population"
   ]
  },
  {
   "cell_type": "code",
   "execution_count": 156,
   "metadata": {},
   "outputs": [],
   "source": [
    "def evaluate_population(population : [NimAgent], nim: Nim, num_games: int):\n",
    "    wins = []\n",
    "    for individual in population:\n",
    "        strategy = (optimal,individual.make_move)\n",
    "        win = 0\n",
    "        for _ in range(num_games):\n",
    "            nim.reset()\n",
    "            player = 0\n",
    "            while nim:\n",
    "                if player == 1 :\n",
    "                    ply = strategy[player](nim)\n",
    "                else:\n",
    "                    ply = strategy[player](nim)\n",
    "                nim.nimming(ply)\n",
    "                player = 1 - player\n",
    "            if player == 1:\n",
    "                win+=1\n",
    "        wins.append(win)\n",
    "    return wins"
   ]
  },
  {
   "cell_type": "code",
   "execution_count": 157,
   "metadata": {},
   "outputs": [],
   "source": [
    "def initialize_population(pop_size, genome_length):\n",
    "    population = [NimAgent([random.random() for _ in range(genome_length)]) for _ in range(pop_size)]\n",
    "    return population"
   ]
  },
  {
   "cell_type": "code",
   "execution_count": 158,
   "metadata": {},
   "outputs": [],
   "source": [
    "def evolutionary_strategy(nim, generations, pop_size, initial_mutation_rate, wins_goal, num_games, mutation_probability):\n",
    "    population = initialize_population(pop_size, len(nim.rows))\n",
    "    best_individual = None\n",
    "    best_fitness = -1\n",
    "    mutation_rate = initial_mutation_rate\n",
    "\n",
    "    for generation in range(generations):\n",
    "        fitness_scores = evaluate_population(population, nim, num_games)\n",
    "\n",
    "        # The best score is halved to report the number of wins, since each win is worth double points in the scoring system.\n",
    "        print(f\"Generation {generation}: Best score {max(fitness_scores)} wins\")\n",
    "\n",
    "        # Check for termination condition (e.g., a perfect score)\n",
    "        if max(fitness_scores) >= wins_goal:\n",
    "            print(\"Stopping early, reached perfect score!\")\n",
    "            break\n",
    "\n",
    "        # Selection\n",
    "        selected_agents = select_agents(population, fitness_scores)\n",
    "\n",
    "\n",
    "        # Reproduction\n",
    "        new_population = reproduce(selected_agents, mutation_rate, mutation_probability)\n",
    "\n",
    "        # Replacement\n",
    "        population = replacement(population, new_population, fitness_scores)\n",
    "        \n",
    "\n",
    "        # Check if the new best individual is found\n",
    "        max_fitness = max(fitness_scores)\n",
    "        if max_fitness > best_fitness:\n",
    "            best_fitness = max_fitness\n",
    "            best_individual_index = fitness_scores.index(max_fitness)\n",
    "            best_individual = population[best_individual_index]\n",
    "        # Optionally, adapt the mutation rate\n",
    "        # This can be a function of the progress stagnation, diversity in population, etc.\n",
    "\n",
    "    return population, best_individual"
   ]
  },
  {
   "cell_type": "code",
   "execution_count": 159,
   "metadata": {},
   "outputs": [
    {
     "name": "stdout",
     "output_type": "stream",
     "text": [
      "Generation 0: Best score 36 wins\n",
      "Generation 1: Best score 31 wins\n",
      "Generation 2: Best score 34 wins\n",
      "Generation 3: Best score 30 wins\n",
      "Generation 4: Best score 34 wins\n",
      "Generation 5: Best score 35 wins\n",
      "Generation 6: Best score 37 wins\n",
      "Generation 7: Best score 35 wins\n",
      "Generation 8: Best score 32 wins\n",
      "Generation 9: Best score 36 wins\n",
      "Generation 10: Best score 37 wins\n",
      "Generation 11: Best score 35 wins\n",
      "Generation 12: Best score 35 wins\n",
      "Generation 13: Best score 32 wins\n",
      "Generation 14: Best score 33 wins\n",
      "Generation 15: Best score 33 wins\n",
      "Generation 16: Best score 35 wins\n",
      "Generation 17: Best score 35 wins\n",
      "Generation 18: Best score 39 wins\n",
      "Generation 19: Best score 34 wins\n",
      "Generation 20: Best score 37 wins\n",
      "Generation 21: Best score 36 wins\n",
      "Generation 22: Best score 39 wins\n",
      "Generation 23: Best score 41 wins\n",
      "Generation 24: Best score 33 wins\n",
      "Generation 25: Best score 36 wins\n",
      "Generation 26: Best score 30 wins\n",
      "Generation 27: Best score 39 wins\n",
      "Generation 28: Best score 41 wins\n",
      "Generation 29: Best score 34 wins\n",
      "Generation 30: Best score 40 wins\n",
      "Generation 31: Best score 43 wins\n",
      "Generation 32: Best score 32 wins\n",
      "Generation 33: Best score 35 wins\n",
      "Generation 34: Best score 36 wins\n",
      "Generation 35: Best score 33 wins\n",
      "Generation 36: Best score 35 wins\n",
      "Generation 37: Best score 32 wins\n",
      "Generation 38: Best score 57 wins\n",
      "Generation 39: Best score 36 wins\n",
      "Generation 40: Best score 52 wins\n",
      "Generation 41: Best score 35 wins\n",
      "Generation 42: Best score 36 wins\n",
      "Generation 43: Best score 43 wins\n",
      "Generation 44: Best score 36 wins\n",
      "Generation 45: Best score 37 wins\n",
      "Generation 46: Best score 31 wins\n",
      "Generation 47: Best score 35 wins\n",
      "Generation 48: Best score 37 wins\n",
      "Generation 49: Best score 38 wins\n"
     ]
    }
   ],
   "source": [
    "nim = Nim(5)\n",
    "pop, best_ind = evolutionary_strategy(nim,50,10,0.5,90,100,0.3)"
   ]
  },
  {
   "cell_type": "markdown",
   "metadata": {},
   "source": [
    "## Oversimplified match"
   ]
  },
  {
   "cell_type": "code",
   "execution_count": 180,
   "metadata": {},
   "outputs": [
    {
     "name": "stderr",
     "output_type": "stream",
     "text": [
      "INFO:root:init : <1 3 5 7 9>\n",
      "INFO:root:ply: player 0 plays Nimply(row=4, num_objects=3)\n",
      "INFO:root:status: <1 3 5 7 6>\n",
      "INFO:root:ply: player 1 plays Nimply(row=0, num_objects=1)\n",
      "INFO:root:status: <0 3 5 7 6>\n",
      "INFO:root:ply: player 0 plays Nimply(row=1, num_objects=2)\n",
      "INFO:root:status: <0 1 5 7 6>\n",
      "INFO:root:ply: player 1 plays Nimply(row=2, num_objects=5)\n",
      "INFO:root:status: <0 1 0 7 6>\n",
      "INFO:root:ply: player 0 plays Nimply(row=4, num_objects=4)\n",
      "INFO:root:status: <0 1 0 7 2>\n",
      "INFO:root:ply: player 1 plays Nimply(row=1, num_objects=1)\n",
      "INFO:root:status: <0 0 0 7 2>\n",
      "INFO:root:ply: player 0 plays Nimply(row=4, num_objects=2)\n",
      "INFO:root:status: <0 0 0 7 0>\n",
      "INFO:root:ply: player 1 plays Nimply(row=3, num_objects=1)\n",
      "INFO:root:status: <0 0 0 6 0>\n",
      "INFO:root:ply: player 0 plays Nimply(row=3, num_objects=2)\n",
      "INFO:root:status: <0 0 0 4 0>\n",
      "INFO:root:ply: player 1 plays Nimply(row=3, num_objects=1)\n",
      "INFO:root:status: <0 0 0 3 0>\n",
      "INFO:root:ply: player 0 plays Nimply(row=3, num_objects=2)\n",
      "INFO:root:status: <0 0 0 1 0>\n",
      "INFO:root:ply: player 1 plays Nimply(row=3, num_objects=1)\n",
      "INFO:root:status: <0 0 0 0 0>\n",
      "INFO:root:status: Player 0 won!\n"
     ]
    }
   ],
   "source": [
    "logging.getLogger().setLevel(logging.INFO)\n",
    "\n",
    "\n",
    "\n",
    "strategy = (optimal, best_ind.make_move)\n",
    "\n",
    "nim = Nim(5)\n",
    "logging.info(f\"init : {nim}\")\n",
    "player = 0\n",
    "while nim:\n",
    "    if player == 1 :\n",
    "        ply = strategy[player](nim)\n",
    "    else:\n",
    "        ply = strategy[player](nim)\n",
    "    logging.info(f\"ply: player {player} plays {ply}\")\n",
    "    nim.nimming(ply)\n",
    "    logging.info(f\"status: {nim}\")\n",
    "    player = 1 - player\n",
    "logging.info(f\"status: Player {player} won!\")\n"
   ]
  }
 ],
 "metadata": {
  "kernelspec": {
   "display_name": "Python 3.10.7 ('ci22-dPIXJ0_o-py3.10')",
   "language": "python",
   "name": "python3"
  },
  "language_info": {
   "codemirror_mode": {
    "name": "ipython",
    "version": 3
   },
   "file_extension": ".py",
   "mimetype": "text/x-python",
   "name": "python",
   "nbconvert_exporter": "python",
   "pygments_lexer": "ipython3",
   "version": "3.11.6"
  },
  "vscode": {
   "interpreter": {
    "hash": "10197e8e2f2aa67e2c349105091c77f4cd384fce4877865f002d9ec653f96bc0"
   }
  }
 },
 "nbformat": 4,
 "nbformat_minor": 2
}
