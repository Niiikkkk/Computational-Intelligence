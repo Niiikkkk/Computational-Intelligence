{
 "cells": [
  {
   "cell_type": "markdown",
   "metadata": {},
   "source": [
    "Copyright **`(c)`** 2023 Giovanni Squillero `<giovanni.squillero@polito.it>`  \n",
    "[`https://github.com/squillero/computational-intelligence`](https://github.com/squillero/computational-intelligence)  \n",
    "Free for personal or classroom use; see [`LICENSE.md`](https://github.com/squillero/computational-intelligence/blob/master/LICENSE.md) for details.  "
   ]
  },
  {
   "cell_type": "markdown",
   "metadata": {},
   "source": [
    "# LAB9\n",
    "\n",
    "Write a local-search algorithm (eg. an EA) able to solve the *Problem* instances 1, 2, 5, and 10 on a 1000-loci genomes, using a minimum number of fitness calls. That's all.\n",
    "\n",
    "### Deadlines:\n",
    "\n",
    "* Submission: Sunday, December 3 ([CET](https://www.timeanddate.com/time/zones/cet))\n",
    "* Reviews: Sunday, December 10 ([CET](https://www.timeanddate.com/time/zones/cet))\n",
    "\n",
    "Notes:\n",
    "\n",
    "* Reviews will be assigned  on Monday, December 4\n",
    "* You need to commit in order to be selected as a reviewer (ie. better to commit an empty work than not to commit)"
   ]
  },
  {
   "cell_type": "code",
   "execution_count": 461,
   "metadata": {},
   "outputs": [],
   "source": [
    "from random import choices,randint\n",
    "\n",
    "import lab9_lib"
   ]
  },
  {
   "cell_type": "code",
   "execution_count": 462,
   "metadata": {},
   "outputs": [
    {
     "name": "stdout",
     "output_type": "stream",
     "text": [
      "00111111000101001001110111110110010101111001101011: 9.11%\n",
      "01110010101001101111010100000010001000011010001001: 23.56%\n",
      "00000101110101011011010000101000100000101000011100: 7.34%\n",
      "10100101110001111011111011001011001000011110111100: 23.33%\n",
      "11110000000011110110111101010110000101110111011001: 23.33%\n",
      "00100000111100101000011011000111100101010011000011: 15.36%\n",
      "00000111101001111011011101000110010100111111110111: 9.11%\n",
      "01011111111110101100000100110000001100110110000110: 7.33%\n",
      "00011110001101000100001110110110100111011100011101: 15.33%\n",
      "11010001000111111101000001100101000000010100101101: 15.34%\n",
      "10\n"
     ]
    }
   ],
   "source": [
    "fitness = lab9_lib.make_problem(10)\n",
    "for n in range(10):\n",
    "    ind = choices([0, 1], k=50)\n",
    "    print(f\"{''.join(str(g) for g in ind)}: {fitness(ind):.2%}\")\n",
    "\n",
    "print(fitness.calls)"
   ]
  },
  {
   "cell_type": "markdown",
   "metadata": {},
   "source": [
    "## EA"
   ]
  },
  {
   "cell_type": "code",
   "execution_count": 463,
   "metadata": {},
   "outputs": [],
   "source": [
    "import random\n",
    "\n",
    "\n",
    "def mutation(genome):\n",
    "    index = randint(0,len(genome[0])-1)\n",
    "    genome[0][index] = 1-genome[0][index]\n",
    "    return genome[0]\n",
    "\n",
    "\n",
    "def one_cut_xover(ind1, ind2):\n",
    "    cut_point = randint(0, len(ind1[0]))\n",
    "    offspring = ind1[0][:cut_point]+ind2[0][cut_point:]\n",
    "    return offspring\n",
    "\n",
    "def xover(genome1, genome2):\n",
    "    child_genome = [g1 if random.random() > 0.5 else g2 for g1, g2 in zip(genome1[0], genome2[0])]\n",
    "    return child_genome"
   ]
  },
  {
   "cell_type": "code",
   "execution_count": 464,
   "metadata": {},
   "outputs": [],
   "source": [
    "from random import choice\n",
    "\n",
    "\n",
    "def select_parent(population,fitness):\n",
    "    pool = [choice(population) for _ in range(2)]\n",
    "    champion = max(pool, key=lambda i: i[1])\n",
    "    return champion"
   ]
  },
  {
   "cell_type": "code",
   "execution_count": 465,
   "metadata": {},
   "outputs": [],
   "source": [
    "def init_population(n_individual,length,fitness):\n",
    "    pop = []\n",
    "    for _ in range(n_individual):\n",
    "        ind = (choices([0, 1], k=length))\n",
    "        pop.append((ind,fitness(ind)))\n",
    "    return pop"
   ]
  },
  {
   "cell_type": "code",
   "execution_count": 466,
   "metadata": {},
   "outputs": [],
   "source": [
    "def gen_new_population(n_new_indivdual,mutation_prob,old_population,fitness):\n",
    "    new_individual = []\n",
    "    for _ in range(n_new_indivdual):\n",
    "        if random.random() < mutation_prob:\n",
    "            old_ind = select_parent(old_population,fitness)\n",
    "            tmp = mutation(old_ind)\n",
    "        else:\n",
    "            old_ind = select_parent(old_population,fitness)\n",
    "            old_ind_2 = select_parent(old_population,fitness)\n",
    "            tmp = xover(old_ind,old_ind_2)\n",
    "        new_individual.append((tmp,fitness(tmp)))\n",
    "    return new_individual"
   ]
  },
  {
   "cell_type": "code",
   "execution_count": 467,
   "metadata": {},
   "outputs": [],
   "source": [
    "def replacement(new_pop,old_pop,fitness):\n",
    "    tmp_pop = new_pop + old_pop\n",
    "    sorted_pop = sorted(tmp_pop,key= lambda i:i[1],reverse=True)\n",
    "    return sorted_pop[:len(new_pop)]"
   ]
  },
  {
   "cell_type": "code",
   "execution_count": 468,
   "metadata": {},
   "outputs": [
    {
     "name": "stdout",
     "output_type": "stream",
     "text": [
      "0.090239\n",
      "0.4147\n",
      "0.42210000000000003\n",
      "0.42219999999999996\n",
      "0.42610000000000003\n",
      "0.4342\n",
      "0.4342\n",
      "0.4342\n",
      "0.4342\n",
      "0.4342\n",
      "0.437\n",
      "0.437\n",
      "0.437\n",
      "0.437\n",
      "0.4465\n",
      "0.53\n",
      "0.53\n",
      "0.53\n",
      "0.53\n",
      "0.53\n",
      "100500\n"
     ]
    }
   ],
   "source": [
    "N_INDV = 500\n",
    "LENGTH_INDV = 1000\n",
    "GENERATION = 200\n",
    "fit = lab9_lib.make_problem(5)\n",
    "pop = init_population(N_INDV,LENGTH_INDV,fit)\n",
    "\n",
    "for g in range(GENERATION):\n",
    "    if g%10 == 0:\n",
    "        print(pop[0][1])\n",
    "    new_pop = gen_new_population(N_INDV,0.1,pop,fit)\n",
    "    pop = replacement(new_pop,pop,fit)\n",
    "    \n",
    "print(fit.calls)"
   ]
  }
 ],
 "metadata": {
  "kernelspec": {
   "display_name": "ci-fLJ3OwGs-py3.12",
   "language": "python",
   "name": "python3"
  },
  "language_info": {
   "codemirror_mode": {
    "name": "ipython",
    "version": 3
   },
   "file_extension": ".py",
   "mimetype": "text/x-python",
   "name": "python",
   "nbconvert_exporter": "python",
   "pygments_lexer": "ipython3",
   "version": "3.11.6"
  }
 },
 "nbformat": 4,
 "nbformat_minor": 2
}
