{
 "cells": [
  {
   "cell_type": "markdown",
   "metadata": {},
   "source": [
    "Copyright **`(c)`** 2023 Giovanni Squillero `<giovanni.squillero@polito.it>`  \n",
    "[`https://github.com/squillero/computational-intelligence`](https://github.com/squillero/computational-intelligence)  \n",
    "Free for personal or classroom use; see [`LICENSE.md`](https://github.com/squillero/computational-intelligence/blob/master/LICENSE.md) for details.  "
   ]
  },
  {
   "cell_type": "markdown",
   "metadata": {},
   "source": [
    "# LAB9\n",
    "\n",
    "Write a local-search algorithm (eg. an EA) able to solve the *Problem* instances 1, 2, 5, and 10 on a 1000-loci genomes, using a minimum number of fitness calls. That's all.\n",
    "\n",
    "### Deadlines:\n",
    "\n",
    "* Submission: Sunday, December 3 ([CET](https://www.timeanddate.com/time/zones/cet))\n",
    "* Reviews: Sunday, December 10 ([CET](https://www.timeanddate.com/time/zones/cet))\n",
    "\n",
    "Notes:\n",
    "\n",
    "* Reviews will be assigned  on Monday, December 4\n",
    "* You need to commit in order to be selected as a reviewer (ie. better to commit an empty work than not to commit)"
   ]
  },
  {
   "cell_type": "code",
   "execution_count": 229,
   "metadata": {},
   "outputs": [],
   "source": [
    "from random import choices,randint\n",
    "\n",
    "import lab9_lib"
   ]
  },
  {
   "cell_type": "code",
   "execution_count": 230,
   "metadata": {},
   "outputs": [
    {
     "name": "stdout",
     "output_type": "stream",
     "text": [
      "00110110111010011111010110111100111000101011000011: 9.11%\n",
      "00000011100100101101101100100000000101110111111100: 15.56%\n",
      "11001101111101000011011111000001110100001011100111: 15.33%\n",
      "01101010001010111111011101101101010111110110000111: 39.34%\n",
      "10100101001001000010011010010111110100111100010101: 7.33%\n",
      "11001110000100101110111011010011000111001100100000: 9.11%\n",
      "11111111011000010011011001100111010011000011011011: 23.33%\n",
      "00000011000001011000001000001001000100000101100100: 19.78%\n",
      "11101100111101000101011101000110111010010001001000: 15.33%\n",
      "00110111010001110010011101011111010101011010011100: 9.11%\n",
      "10\n"
     ]
    }
   ],
   "source": [
    "fitness = lab9_lib.make_problem(10)\n",
    "for n in range(10):\n",
    "    ind = choices([0, 1], k=50)\n",
    "    print(f\"{''.join(str(g) for g in ind)}: {fitness(ind):.2%}\")\n",
    "\n",
    "print(fitness.calls)"
   ]
  },
  {
   "cell_type": "markdown",
   "metadata": {},
   "source": [
    "## EA"
   ]
  },
  {
   "cell_type": "code",
   "execution_count": 231,
   "metadata": {},
   "outputs": [],
   "source": [
    "import random\n",
    "\n",
    "\n",
    "def mutation(genome):\n",
    "    index = randint(0,len(genome[0])-1)\n",
    "    genome[0][index] = 1-genome[0][index]\n",
    "    return genome[0]\n",
    "\n",
    "\n",
    "def one_cut_xover(ind1, ind2):\n",
    "    cut_point = randint(0, len(ind1[0]))\n",
    "    offspring = ind1[0][:cut_point]+ind2[0][cut_point:]\n",
    "    return offspring\n",
    "\n",
    "def xover(genome1, genome2):\n",
    "    child_genome = [g1 if random.random() > 0.5 else g2 for g1, g2 in zip(genome1[0], genome2[0])]\n",
    "    return child_genome"
   ]
  },
  {
   "cell_type": "code",
   "execution_count": 232,
   "metadata": {},
   "outputs": [],
   "source": [
    "from random import choice\n",
    "\n",
    "\n",
    "def select_parent(population,fitness):\n",
    "    best_parents = sorted(population,key= lambda i:i[1],reverse=True)[:int(len(population)/2)]\n",
    "    pool = [choice(best_parents) for _ in range(int(len(population)/4))]\n",
    "    champion = max(pool, key=lambda i: i[1])\n",
    "    return champion"
   ]
  },
  {
   "cell_type": "code",
   "execution_count": 233,
   "metadata": {},
   "outputs": [],
   "source": [
    "def init_population(n_individual,length,fitness):\n",
    "    pop = []\n",
    "    for _ in range(n_individual):\n",
    "        ind = (choices([0, 1], k=length))\n",
    "        pop.append((ind,fitness(ind)))\n",
    "    return pop"
   ]
  },
  {
   "cell_type": "code",
   "execution_count": 234,
   "metadata": {},
   "outputs": [],
   "source": [
    "def gen_new_population(n_new_indivdual,mutation_prob,old_population,fitness):\n",
    "    new_individual = []\n",
    "    for _ in range(n_new_indivdual):\n",
    "        if random.random() < mutation_prob:\n",
    "            old_ind = select_parent(old_population,fitness)\n",
    "            tmp = mutation(old_ind)\n",
    "        else:\n",
    "            old_ind = select_parent(old_population,fitness)\n",
    "            old_ind_2 = select_parent(old_population,fitness)\n",
    "            tmp = one_cut_xover(old_ind,old_ind_2)\n",
    "        new_individual.append((tmp,fitness(tmp)))\n",
    "    return new_individual"
   ]
  },
  {
   "cell_type": "code",
   "execution_count": 235,
   "metadata": {},
   "outputs": [],
   "source": [
    "def replacement(new_pop,old_pop,fitness):\n",
    "    tmp_pop = new_pop + old_pop\n",
    "    sorted_pop = sorted(tmp_pop,key= lambda i:i[1],reverse=True)\n",
    "    return sorted_pop[:len(new_pop)]"
   ]
  },
  {
   "cell_type": "code",
   "execution_count": 236,
   "metadata": {},
   "outputs": [
    {
     "name": "stdout",
     "output_type": "stream",
     "text": [
      "0.050811123464 0.05907650716564001\n",
      "0.227001127 0.2268960746060002\n",
      "0.23502224000000002 0.2312449624659997\n",
      "0.235356783 0.23518443745599948\n",
      "0.235777904 0.23567284270399821\n",
      "0.236011127 0.23594355666799935\n",
      "0.236334449 0.23623615383800026\n",
      "0.236666671 0.2365224058980003\n",
      "0.240788904 0.24040873332000037\n",
      "0.24111122499999998 0.24099762585599965\n",
      "0.241233458 0.24113435586800044\n",
      "0.24534455900000002 0.2452581770680003\n",
      "0.245677781 0.24558813023400014\n",
      "0.245889003 0.24582860588400035\n",
      "0.246111124 0.24611111420600118\n",
      "0.250123346 0.24855118295599957\n",
      "0.250344558 0.25025088102399917\n",
      "0.250556668 0.2505031825200013\n",
      "0.25067779 0.2506706805840004\n",
      "0.250789001 0.25077857231799955\n",
      "0.250900112 0.2508870768260018\n",
      "0.251000225 0.25100009356399905\n",
      "0.25501223500000003 0.2525755812820002\n",
      "0.259222234 0.25912057703200087\n",
      "0.259233445 0.2592246056179982\n",
      "0.259333445 0.25923464310000144\n",
      "0.263134457 0.25927364395799857\n",
      "0.263235567 0.2632354135500014\n",
      "0.26345556800000003 0.26341017815400064\n",
      "0.267555578 0.2675543719180024\n",
      "150500\n"
     ]
    }
   ],
   "source": [
    "N_INDV = 500\n",
    "LENGTH_INDV = 1000\n",
    "GENERATION = 300\n",
    "fit = lab9_lib.make_problem(10)\n",
    "pop = init_population(N_INDV,LENGTH_INDV,fit)\n",
    "\n",
    "for g in range(GENERATION):\n",
    "    if g%10 == 0:\n",
    "        avg_fit = sum(list(map(lambda i:i[1],pop)))/len(pop)\n",
    "        print(pop[0][1], avg_fit)\n",
    "    new_pop = gen_new_population(N_INDV,0.1,pop,fit)\n",
    "    pop = replacement(new_pop,pop,fit)\n",
    "    \n",
    "print(fit.calls)"
   ]
  }
 ],
 "metadata": {
  "kernelspec": {
   "display_name": "ci-fLJ3OwGs-py3.12",
   "language": "python",
   "name": "python3"
  },
  "language_info": {
   "codemirror_mode": {
    "name": "ipython",
    "version": 3
   },
   "file_extension": ".py",
   "mimetype": "text/x-python",
   "name": "python",
   "nbconvert_exporter": "python",
   "pygments_lexer": "ipython3",
   "version": "3.11.6"
  }
 },
 "nbformat": 4,
 "nbformat_minor": 2
}
