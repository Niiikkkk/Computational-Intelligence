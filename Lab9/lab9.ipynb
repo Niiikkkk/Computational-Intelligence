{
 "cells": [
  {
   "cell_type": "markdown",
   "metadata": {},
   "source": [
    "Copyright **`(c)`** 2023 Giovanni Squillero `<giovanni.squillero@polito.it>`  \n",
    "[`https://github.com/squillero/computational-intelligence`](https://github.com/squillero/computational-intelligence)  \n",
    "Free for personal or classroom use; see [`LICENSE.md`](https://github.com/squillero/computational-intelligence/blob/master/LICENSE.md) for details.  "
   ]
  },
  {
   "cell_type": "markdown",
   "metadata": {},
   "source": [
    "# LAB9\n",
    "\n",
    "Write a local-search algorithm (eg. an EA) able to solve the *Problem* instances 1, 2, 5, and 10 on a 1000-loci genomes, using a minimum number of fitness calls. That's all.\n",
    "\n",
    "### Deadlines:\n",
    "\n",
    "* Submission: Sunday, December 3 ([CET](https://www.timeanddate.com/time/zones/cet))\n",
    "* Reviews: Sunday, December 10 ([CET](https://www.timeanddate.com/time/zones/cet))\n",
    "\n",
    "Notes:\n",
    "\n",
    "* Reviews will be assigned  on Monday, December 4\n",
    "* You need to commit in order to be selected as a reviewer (ie. better to commit an empty work than not to commit)"
   ]
  },
  {
   "cell_type": "code",
   "execution_count": 82,
   "metadata": {},
   "outputs": [],
   "source": [
    "from random import choices,randint\n",
    "\n",
    "import lab9_lib"
   ]
  },
  {
   "cell_type": "code",
   "execution_count": 83,
   "metadata": {},
   "outputs": [
    {
     "name": "stdout",
     "output_type": "stream",
     "text": [
      "10100010111110011011010100011010001100111010110010: 9.13%\n",
      "11010001100011000110011001110000001101100000010001: 7.34%\n",
      "10100011001000101001000101001110110100110101101000: 23.56%\n",
      "00010010100000100100110111010000111101011111111010: 15.34%\n",
      "01001000001011010110011001001001000101010011101110: 29.56%\n",
      "01110100010000110101101110110111001011000011000010: 29.56%\n",
      "00010000100100001000101100100011100111110101011000: 7.34%\n",
      "10101101000011010111010110010100011100011110010001: 15.33%\n",
      "10111111111110000010100100011101001100110100111110: 9.33%\n",
      "11111100110001000111010110000101101111000010001111: 7.33%\n",
      "10\n"
     ]
    }
   ],
   "source": [
    "fitness = lab9_lib.make_problem(10)\n",
    "for n in range(10):\n",
    "    ind = choices([0, 1], k=50)\n",
    "    print(f\"{''.join(str(g) for g in ind)}: {fitness(ind):.2%}\")\n",
    "\n",
    "print(fitness.calls)"
   ]
  },
  {
   "cell_type": "markdown",
   "metadata": {},
   "source": [
    "## EA"
   ]
  },
  {
   "cell_type": "code",
   "execution_count": 84,
   "metadata": {},
   "outputs": [],
   "source": [
    "import random\n",
    "\n",
    "def mutation(genome):\n",
    "    index = randint(0,len(genome[0])-1)\n",
    "    genome[0][index] = 1-genome[0][index]\n",
    "    return genome[0]\n",
    "\n",
    "def one_cut_xover(ind1, ind2):\n",
    "    cut_point = randint(0, len(ind1[0]))\n",
    "    offspring = ind1[0][:cut_point]+ind2[0][cut_point:]\n",
    "    return offspring\n",
    "\n",
    "def xover(genome1, genome2):\n",
    "    child_genome = [g1 if random.random() > 0.5 else g2 for g1, g2 in zip(genome1[0], genome2[0])]\n",
    "    return child_genome"
   ]
  },
  {
   "cell_type": "code",
   "execution_count": 85,
   "metadata": {},
   "outputs": [],
   "source": [
    "from random import choice\n",
    "\n",
    "def select_parent(population,fitness):\n",
    "    best_parents = sorted(population,key= lambda i:i[1],reverse=True)[:int(len(population)/2)]\n",
    "    pool = [choice(best_parents) for _ in range(2)]\n",
    "    champion = max(pool, key=lambda i: i[1])\n",
    "    return champion"
   ]
  },
  {
   "cell_type": "code",
   "execution_count": 86,
   "metadata": {},
   "outputs": [],
   "source": [
    "def init_population(n_individual,length,fitness):\n",
    "    pop = []\n",
    "    for _ in range(n_individual):\n",
    "        ind = (choices([0, 1], k=length))\n",
    "        pop.append((ind,fitness(ind)))\n",
    "    return pop"
   ]
  },
  {
   "cell_type": "code",
   "execution_count": 87,
   "metadata": {},
   "outputs": [],
   "source": [
    "def gen_new_population(n_new_indivdual,mutation_prob,old_population,fitness):\n",
    "    new_individual = []\n",
    "    for _ in range(n_new_indivdual):\n",
    "        if random.random() < mutation_prob:\n",
    "            old_ind = select_parent(old_population,fitness)\n",
    "            tmp = mutation(old_ind)\n",
    "        else:\n",
    "            old_ind = select_parent(old_population,fitness)\n",
    "            old_ind_2 = select_parent(old_population,fitness)\n",
    "            tmp = xover(old_ind,old_ind_2)\n",
    "        new_individual.append((tmp,fitness(tmp)))\n",
    "    return new_individual"
   ]
  },
  {
   "cell_type": "code",
   "execution_count": 88,
   "metadata": {},
   "outputs": [],
   "source": [
    "def replacement(new_pop,old_pop,fitness):\n",
    "    tmp_pop = new_pop + old_pop\n",
    "    sorted_pop = sorted(tmp_pop,key= lambda i:i[1],reverse=True)\n",
    "    return sorted_pop[:len(new_pop)]"
   ]
  },
  {
   "cell_type": "code",
   "execution_count": 89,
   "metadata": {},
   "outputs": [
    {
     "name": "stdout",
     "output_type": "stream",
     "text": [
      "Problem size: 1\n",
      "Best fitness: 0.995\n",
      "Fitness calls: 28400\n",
      "Population size: 100\n",
      "Problem size: 2\n",
      "Best fitness: 0.724\n",
      "Fitness calls: 28000\n",
      "Population size: 100\n",
      "Problem size: 5\n",
      "Best fitness: 0.4069\n",
      "Fitness calls: 700\n",
      "Population size: 100\n",
      "Problem size: 10\n",
      "Best fitness: 0.27355669\n",
      "Fitness calls: 26300\n",
      "Population size: 100\n"
     ]
    }
   ],
   "source": [
    "N_INDV = 100\n",
    "LENGTH_INDV = 1000\n",
    "GENERATION = 300\n",
    "\n",
    "problem_size = [1,2,5,10]\n",
    "\n",
    "for ps in problem_size:\n",
    "    fit = lab9_lib.make_problem(ps)\n",
    "    pop = init_population(N_INDV,LENGTH_INDV,fit)\n",
    "    best = 0\n",
    "    n_calls = 0\n",
    "    for g in range(GENERATION):\n",
    "        #if g%10 == 0:\n",
    "        #    avg_fit = sum(list(map(lambda i:i[1],pop)))/len(pop)\n",
    "        #    print(pop[0][1], avg_fit)\n",
    "        new_pop = gen_new_population(N_INDV,0.3,pop,fit)\n",
    "        pop = replacement(new_pop,pop,fit)\n",
    "        if pop[0][1] > best:\n",
    "            best = pop[0][1]\n",
    "            n_calls = fit.calls\n",
    "    print(f\"Problem size: {ps}\")\n",
    "    print(f\"Best fitness: {best}\")\n",
    "    print(f\"Fitness calls: {n_calls}\")\n",
    "    print(f\"Population size: {N_INDV}\")"
   ]
  }
 ],
 "metadata": {
  "kernelspec": {
   "display_name": "ci-fLJ3OwGs-py3.12",
   "language": "python",
   "name": "python3"
  },
  "language_info": {
   "codemirror_mode": {
    "name": "ipython",
    "version": 3
   },
   "file_extension": ".py",
   "mimetype": "text/x-python",
   "name": "python",
   "nbconvert_exporter": "python",
   "pygments_lexer": "ipython3",
   "version": "3.11.6"
  }
 },
 "nbformat": 4,
 "nbformat_minor": 2
}
