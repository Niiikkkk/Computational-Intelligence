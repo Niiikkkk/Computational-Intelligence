{
 "cells": [
  {
   "cell_type": "markdown",
   "metadata": {},
   "source": [
    "Implement the set-covering game"
   ]
  },
  {
   "cell_type": "code",
   "execution_count": 417,
   "metadata": {},
   "outputs": [],
   "source": [
    "import numpy as np\n",
    "from random import random\n",
    "from functools import reduce\n",
    "from queue import PriorityQueue"
   ]
  },
  {
   "cell_type": "code",
   "execution_count": 418,
   "metadata": {},
   "outputs": [],
   "source": [
    "PROBLEM_SIZE = 20\n",
    "NUM_SETS = 10"
   ]
  },
  {
   "cell_type": "code",
   "execution_count": 419,
   "metadata": {},
   "outputs": [
    {
     "data": {
      "text/plain": [
       "[array([False,  True, False, False,  True, False, False, False, False,\n",
       "        False, False, False, False, False, False, False, False,  True,\n",
       "         True, False]),\n",
       " array([False,  True, False, False,  True, False, False, False,  True,\n",
       "        False,  True, False,  True,  True, False,  True, False, False,\n",
       "         True, False]),\n",
       " array([False, False,  True,  True,  True,  True,  True, False, False,\n",
       "        False, False,  True, False, False, False, False,  True,  True,\n",
       "         True,  True]),\n",
       " array([ True, False, False, False, False, False,  True, False, False,\n",
       "        False, False, False,  True,  True,  True, False,  True,  True,\n",
       "         True, False]),\n",
       " array([ True, False, False,  True, False, False, False, False,  True,\n",
       "        False, False, False, False, False, False, False,  True, False,\n",
       "        False,  True]),\n",
       " array([False,  True,  True, False, False, False, False, False, False,\n",
       "        False, False, False, False, False, False, False, False, False,\n",
       "        False, False]),\n",
       " array([False, False, False, False, False,  True, False,  True, False,\n",
       "        False,  True,  True,  True,  True, False, False, False, False,\n",
       "        False,  True]),\n",
       " array([ True, False, False,  True, False, False, False, False, False,\n",
       "         True, False,  True,  True, False, False,  True, False, False,\n",
       "        False, False]),\n",
       " array([False,  True,  True, False, False, False,  True, False, False,\n",
       "        False,  True, False, False,  True,  True, False, False,  True,\n",
       "        False,  True]),\n",
       " array([False, False, False, False, False, False, False,  True,  True,\n",
       "         True,  True, False,  True,  True,  True,  True, False, False,\n",
       "         True,  True])]"
      ]
     },
     "execution_count": 419,
     "metadata": {},
     "output_type": "execute_result"
    }
   ],
   "source": [
    "sets = [np.array([random() < .3 for _ in range(PROBLEM_SIZE)]) for _ in range(NUM_SETS)]\n",
    "assert np.all(reduce(np.logical_or,[sets[i] for i in range(NUM_SETS)])), \"Not solvable\"\n",
    "sets\n",
    "\n",
    "\n",
    "\n",
    "#random() return a number, if it's <0.2 then i'll have true, otherwise false\n",
    "#the goal is to find the minimun number of sets which OR returns all true.\n",
    "#EXAMPLE:\n",
    "# array([False, False,  True,  True,  True])\n",
    "# array([ True,  True, False, False, False])\n",
    "# The OR will be all true, so this is a solution!!"
   ]
  },
  {
   "cell_type": "code",
   "execution_count": 420,
   "metadata": {},
   "outputs": [],
   "source": [
    "state = ({1,3,5}, {0,2,4,6,7})\n",
    "#We took 1,3,5 and not taken 0,2,4,6,7, we'll rapresent the states in this way, 2 sets."
   ]
  },
  {
   "cell_type": "code",
   "execution_count": null,
   "metadata": {},
   "outputs": [],
   "source": []
  },
  {
   "cell_type": "code",
   "execution_count": 421,
   "metadata": {},
   "outputs": [],
   "source": [
    "def goal_check(state):\n",
    "    return np.all(reduce(np.logical_or,[sets[i] for i in state[0]],np.array([False for _ in range(PROBLEM_SIZE)])))\n",
    "#the reduce does the OR operation on the sets[i] for i in state[0], so the elements taken!!. Then return the AND between the elementes returned\n",
    "# by the reduce (by the np.all()).\n",
    "\n",
    "def distance(state):\n",
    "    return PROBLEM_SIZE - sum(reduce(np.logical_or,[sets[i] for i in state[0]],np.array([False for _ in range(PROBLEM_SIZE)])))\n",
    "#This function  return the distance of the state from the goal. That's the number of false we still have and\n",
    "# that has to be covered. The sum returs us the number of true value. \n",
    "\n",
    "def h(state):\n",
    "    return np.ceil((sum(sum(sets[s] for s in state[1]))) / (PROBLEM_SIZE-len(state[0])))\n",
    "    \n",
    "\n",
    "def actual_cost(state):\n",
    "    return len(state[0]) #The actual cost is the number of elements I have in the first set\n",
    "\n",
    "def f(n):\n",
    "    return actual_cost(n) + h(n) #This is the A* function"
   ]
  },
  {
   "cell_type": "code",
   "execution_count": 422,
   "metadata": {},
   "outputs": [
    {
     "name": "stdout",
     "output_type": "stream",
     "text": [
      "2.4210526315789473\n"
     ]
    },
    {
     "data": {
      "text/plain": [
       "(3.0, 16, 1)"
      ]
     },
     "execution_count": 422,
     "metadata": {},
     "output_type": "execute_result"
    }
   ],
   "source": [
    "state = ({0},{1,2,4,3,5,6,7})\n",
    "print((sum(sum(sets[s] for s in state[1]))) / (PROBLEM_SIZE-len(state[0])))\n",
    "h(state) , distance(state), len(state[0])"
   ]
  },
  {
   "cell_type": "code",
   "execution_count": 423,
   "metadata": {},
   "outputs": [],
   "source": [
    "#We use a PriorityQueue whose cost is the n umber of taken elements, so the number of elements that are in the first set of the state\n",
    "frontier = PriorityQueue()\n",
    "initial_state = (set(),set(range(NUM_SETS))) #everithing not taken !\n",
    "frontier.put((f(initial_state),initial_state))\n",
    "\n",
    "_,state = frontier.get()\n",
    "counter =0 \n",
    "while not goal_check(state):\n",
    "    for a in state[1]: #in state[1] I have all the elements that I didn't take\n",
    "        counter+=1\n",
    "        new_state = (state[0] | {a}, state[1] - {a}) #The | is UNION, - is DIFFERENCE\n",
    "        frontier.put((f(new_state),new_state))\n",
    "    _,state = frontier.get()"
   ]
  },
  {
   "cell_type": "code",
   "execution_count": 424,
   "metadata": {},
   "outputs": [
    {
     "name": "stdout",
     "output_type": "stream",
     "text": [
      "762\n"
     ]
    },
    {
     "data": {
      "text/plain": [
       "({2, 3, 8, 9}, {0, 1, 4, 5, 6, 7})"
      ]
     },
     "execution_count": 424,
     "metadata": {},
     "output_type": "execute_result"
    }
   ],
   "source": [
    "print(counter)\n",
    "state"
   ]
  },
  {
   "cell_type": "code",
   "execution_count": 425,
   "metadata": {},
   "outputs": [],
   "source": [
    "#We use a PriorityQueue whose cost is the n umber of taken elements, so the number of elements that are in the first set of the state\n",
    "frontier = PriorityQueue()\n",
    "initial_state = (set(),set(range(NUM_SETS))) #everithing not taken !\n",
    "frontier.put(initial_state) #the number of taken elements is 0, everything is not taken\n",
    "\n",
    "state = frontier.get()\n",
    "\n",
    "while not goal_check(state):\n",
    "    for a in state[1]: #in state[1][1] I have all the elements that I didn't take\n",
    "        new_state = (state[0] | {a}, state[1] - {a}) #The | is UNION, - is DIFFERENCE\n",
    "        frontier.put(new_state)\n",
    "    state = frontier.get()"
   ]
  },
  {
   "cell_type": "code",
   "execution_count": 426,
   "metadata": {},
   "outputs": [
    {
     "name": "stdout",
     "output_type": "stream",
     "text": [
      "({8, 9, 2, 7}, {0, 1, 3, 4, 5, 6})\n"
     ]
    }
   ],
   "source": [
    "print(state)"
   ]
  }
 ],
 "metadata": {
  "kernelspec": {
   "display_name": "venv",
   "language": "python",
   "name": "python3"
  },
  "language_info": {
   "codemirror_mode": {
    "name": "ipython",
    "version": 3
   },
   "file_extension": ".py",
   "mimetype": "text/x-python",
   "name": "python",
   "nbconvert_exporter": "python",
   "pygments_lexer": "ipython3",
   "version": "3.11.6"
  }
 },
 "nbformat": 4,
 "nbformat_minor": 2
}
