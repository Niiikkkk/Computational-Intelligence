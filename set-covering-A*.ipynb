{
 "cells": [
  {
   "cell_type": "code",
   "execution_count": 252,
   "metadata": {},
   "outputs": [],
   "source": [
    "import numpy as np\n",
    "from random import random\n",
    "from functools import reduce\n",
    "from queue import PriorityQueue"
   ]
  },
  {
   "cell_type": "markdown",
   "metadata": {},
   "source": [
    "# Lab 1 -- Set Covering"
   ]
  },
  {
   "cell_type": "markdown",
   "metadata": {},
   "source": [
    "### What is set covering\n",
    "The goal of set covering is to find all the sets that covers all the values. We have `NUM_SETS` that is the number of sets and `PROBLEM_SIZE` that is the lenght of the values of each set. The value is choosen between `True` and `False`."
   ]
  },
  {
   "cell_type": "code",
   "execution_count": 253,
   "metadata": {},
   "outputs": [],
   "source": [
    "PROBLEM_SIZE = 8\n",
    "NUM_SETS = 10"
   ]
  },
  {
   "cell_type": "code",
   "execution_count": 254,
   "metadata": {},
   "outputs": [],
   "source": [
    "sets = [np.array([random() < .3 for _ in range(PROBLEM_SIZE)]) for _ in range(NUM_SETS)]\n",
    "assert np.all(reduce(np.logical_or,[sets[i] for i in range(NUM_SETS)])), \"Not solvable\""
   ]
  },
  {
   "cell_type": "markdown",
   "metadata": {},
   "source": [
    "### State\n",
    "The state , for exampe `state = ({1,3,5}, {0,2,4,6,7})` is composed of 2 parts:\n",
    "- The first part is the taken sets\n",
    "- The second part is the not taken sets\n",
    "\n",
    "The goal is to cover all the sets, but with the minimum number of taken sets"
   ]
  },
  {
   "cell_type": "code",
   "execution_count": 255,
   "metadata": {},
   "outputs": [],
   "source": [
    "state = ({1,3,5}, {0,2,4,6,7})\n",
    "#We took 1,3,5 and not taken 0,2,4,6,7, we'll rapresent the states in this way, 2 sets."
   ]
  },
  {
   "cell_type": "markdown",
   "metadata": {},
   "source": [
    "### Functions\n",
    "- `goal_check(state)`: returns _True_ only if the first set of the state contains all True, meaning that the sets are all covered.\n",
    "- `distance(state)`: returns the number of sets that have to be covered.\n",
    "- `h(state)`: this is the heristic function. \n",
    "    - `largest_set_size` is the set with the max number of _True_.\n",
    "    - `missing_size` is the number of uncovered values to get to the goal (everything covered).\n",
    "    At the end the heuristic tells us how many sets we need at least to get the job done.\n",
    "    For example if `larget_set_size` is 4 and `missing_size` is 5 we'll need at least 2 sets for compleating the covering. (we have that the max set is 4, to get to 5 we'll need at least 2 sets)\n",
    "- `actual_cost(state)`: return the actual cost, that is the lenght of the taken sets.\n",
    "- `f(n)`: this is the A* function. The goal of A* is to look at the actual cost (the past) but also have an heuristic about the future, given the actual node."
   ]
  },
  {
   "cell_type": "code",
   "execution_count": 256,
   "metadata": {},
   "outputs": [],
   "source": [
    "def goal_check(state):\n",
    "    return np.all(reduce(np.logical_or,[sets[i] for i in state[0]],np.array([False for _ in range(PROBLEM_SIZE)])))\n",
    "#the reduce does the OR operation on the sets[i] for i in state[0], so the elements taken!!. Then return the AND between the elementes returned\n",
    "# by the reduce (by the np.all()).\n",
    "\n",
    "def distance(state):\n",
    "    return PROBLEM_SIZE - sum(reduce(np.logical_or,[sets[i] for i in state[0]],np.array([False for _ in range(PROBLEM_SIZE)])))\n",
    "#This function  return the distance of the state from the goal. That's the number of false we still have and\n",
    "# that has to be covered. The sum returs us the number of true value. \n",
    "\n",
    "def covered(state):\n",
    "    return reduce(\n",
    "        np.logical_or,\n",
    "        [sets[i] for i in state[0]],\n",
    "        np.array([False for _ in range(PROBLEM_SIZE)]),\n",
    "    )\n",
    "\n",
    "def h(state):\n",
    "    largest_set_size = max(sum(s) for s in sets)\n",
    "    missing_size = PROBLEM_SIZE - sum(covered(state))\n",
    "    optimistic_estimate = np.ceil(missing_size / largest_set_size)\n",
    "    return optimistic_estimate\n",
    "\n",
    "def actual_cost(state):\n",
    "    return len(state[0]) #The actual cost is the number of elements I have in the first set\n",
    "\n",
    "def f(n):\n",
    "    return actual_cost(n) + h(n) #This is the A* function"
   ]
  },
  {
   "cell_type": "markdown",
   "metadata": {},
   "source": [
    "### Code \n",
    "We use a `PriorityQueue` where the \"key\" is the f(n) !! So when we are doing `_,state = frontier.get()` we'll get the state with the lowest `f(state)`"
   ]
  },
  {
   "cell_type": "code",
   "execution_count": 263,
   "metadata": {},
   "outputs": [],
   "source": [
    "frontier = PriorityQueue()\n",
    "initial_state = (set(),set(range(NUM_SETS))) #everithing not taken !\n",
    "frontier.put((f(initial_state),initial_state))\n",
    "\n",
    "_,state = frontier.get()\n",
    "counter =0 \n",
    "while not goal_check(state):\n",
    "    for a in state[1]: #in state[1] I have all the elements that I didn't take\n",
    "        counter+=1\n",
    "        new_state = (state[0] | {a}, state[1] - {a}) #The | is UNION, - is DIFFERENCE\n",
    "        frontier.put((f(new_state),new_state))\n",
    "    _,state = frontier.get()"
   ]
  },
  {
   "cell_type": "code",
   "execution_count": 261,
   "metadata": {},
   "outputs": [
    {
     "name": "stdout",
     "output_type": "stream",
     "text": [
      "112\n"
     ]
    },
    {
     "data": {
      "text/plain": [
       "({0, 2, 6}, {1, 3, 4, 5, 7, 8, 9})"
      ]
     },
     "execution_count": 261,
     "metadata": {},
     "output_type": "execute_result"
    }
   ],
   "source": [
    "print(counter)\n",
    "state"
   ]
  }
 ],
 "metadata": {
  "kernelspec": {
   "display_name": "venv",
   "language": "python",
   "name": "python3"
  },
  "language_info": {
   "codemirror_mode": {
    "name": "ipython",
    "version": 3
   },
   "file_extension": ".py",
   "mimetype": "text/x-python",
   "name": "python",
   "nbconvert_exporter": "python",
   "pygments_lexer": "ipython3",
   "version": "3.11.6"
  }
 },
 "nbformat": 4,
 "nbformat_minor": 2
}
