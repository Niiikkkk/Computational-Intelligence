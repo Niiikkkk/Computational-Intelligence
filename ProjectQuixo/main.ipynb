{
 "cells": [
  {
   "cell_type": "code",
   "execution_count": 16,
   "metadata": {},
   "outputs": [],
   "source": [
    "import random\n",
    "from game import Game, Move, Player"
   ]
  },
  {
   "cell_type": "code",
   "execution_count": 17,
   "metadata": {},
   "outputs": [],
   "source": [
    "class RandomPlayer(Player):\n",
    "    def __init__(self) -> None:\n",
    "        super().__init__()\n",
    "\n",
    "    def make_move(self, game: 'Game') -> tuple[tuple[int, int], Move]:\n",
    "        from_pos = (random.randint(0, 4), random.randint(0, 4))\n",
    "        move = random.choice([Move.TOP, Move.BOTTOM, Move.LEFT, Move.RIGHT])\n",
    "        return from_pos, move\n",
    "    \n",
    "    def give_rew(self, reward):\n",
    "        pass\n",
    "\n",
    "    def add_state(self,s):\n",
    "        pass"
   ]
  },
  {
   "cell_type": "code",
   "execution_count": 18,
   "metadata": {},
   "outputs": [],
   "source": [
    "class RLPlayer(Player):\n",
    "    def __init__(self,player,esp_rate = 0.3,lr = 0.1) -> None:\n",
    "        super().__init__()\n",
    "        self.esp_rate = esp_rate\n",
    "        self.lr = lr\n",
    "        self.player=player\n",
    "        self.states = []\n",
    "        self.state_value = {}\n",
    "\n",
    "    def add_state(self,s):\n",
    "        self.states.append(s)\n",
    "    \n",
    "    def make_move(self, game: Game) -> tuple[tuple[int, int], Move]:\n",
    "        if(random.random() <= self.esp_rate):  #do exploration for 30% of the time\n",
    "            from_pos = (random.randint(0, 4), random.randint(0, 4))\n",
    "            move = random.choice([Move.TOP, Move.BOTTOM, Move.LEFT, Move.RIGHT])\n",
    "            move = (from_pos,move)\n",
    "        else: #take the best one for 70% of the time\n",
    "            pos = game.get_possible_moves(self.player)\n",
    "            value_max = -999\n",
    "            for p in pos:\n",
    "                tmp = game.get_board()\n",
    "                game.move(p[0],p[1],self.player)\n",
    "                next_board = game.get_hash_board()\n",
    "                game.set_board(tmp)\n",
    "                value_act = 0 if self.state_value.get(next_board) is None else self.state_value.get(next_board) \n",
    "                if value_act > value_max:\n",
    "                    value_max = value_act\n",
    "                    move = p\n",
    "        return move\n",
    "\n",
    "    def give_rew(self, reward):\n",
    "        for v in reversed(self.states):\n",
    "            if self.state_value.get(v) is None:\n",
    "                self.state_value[v] = 0\n",
    "            self.state_value[v] += self.lr*(reward-self.state_value[v])\n",
    "            reward = self.state_value[v]"
   ]
  },
  {
   "cell_type": "code",
   "execution_count": 19,
   "metadata": {},
   "outputs": [],
   "source": [
    "def train(p1,p2,game,epochs):\n",
    "    for epoch in range(epochs):\n",
    "        if epoch % 1000 == 0:\n",
    "            print(\"Epoch:\",epoch)\n",
    "        game.play(p1,p2)\n",
    "        game.reset()"
   ]
  },
  {
   "cell_type": "code",
   "execution_count": 20,
   "metadata": {},
   "outputs": [
    {
     "name": "stdout",
     "output_type": "stream",
     "text": [
      "Epoch: 0\n",
      "Epoch: 1000\n",
      "Epoch: 2000\n",
      "Epoch: 3000\n",
      "Epoch: 4000\n",
      "Epoch: 5000\n",
      "Epoch: 6000\n",
      "Epoch: 7000\n",
      "Epoch: 8000\n",
      "Epoch: 9000\n"
     ]
    }
   ],
   "source": [
    "g = Game()\n",
    "player1 = RLPlayer(player=0)\n",
    "player2 = RLPlayer(player=1)\n",
    "train(player1, player2,g,epochs=10000)"
   ]
  },
  {
   "cell_type": "code",
   "execution_count": 23,
   "metadata": {},
   "outputs": [
    {
     "data": {
      "text/plain": [
       "212022"
      ]
     },
     "execution_count": 23,
     "metadata": {},
     "output_type": "execute_result"
    }
   ],
   "source": [
    "len(player2.state_value)"
   ]
  },
  {
   "cell_type": "code",
   "execution_count": 29,
   "metadata": {},
   "outputs": [
    {
     "name": "stdout",
     "output_type": "stream",
     "text": [
      "RLPlayer won 59.5%\n"
     ]
    }
   ],
   "source": [
    "g = Game()\n",
    "player1 = RandomPlayer()\n",
    "player2_wins = 0\n",
    "for _ in range(1000):\n",
    "    winner = g.test(player1, player2)\n",
    "    g.reset()\n",
    "    if winner == 1:\n",
    "        player2_wins+=1\n",
    "\n",
    "print(f\"RLPlayer won {player2_wins/1000*100}%\")"
   ]
  }
 ],
 "metadata": {
  "kernelspec": {
   "display_name": "venv",
   "language": "python",
   "name": "python3"
  },
  "language_info": {
   "codemirror_mode": {
    "name": "ipython",
    "version": 3
   },
   "file_extension": ".py",
   "mimetype": "text/x-python",
   "name": "python",
   "nbconvert_exporter": "python",
   "pygments_lexer": "ipython3",
   "version": "3.11.6"
  }
 },
 "nbformat": 4,
 "nbformat_minor": 2
}
