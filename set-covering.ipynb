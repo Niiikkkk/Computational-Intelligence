{
 "cells": [
  {
   "cell_type": "markdown",
   "metadata": {},
   "source": [
    "Implement the set-covering game"
   ]
  },
  {
   "cell_type": "code",
   "execution_count": 2,
   "metadata": {},
   "outputs": [],
   "source": [
    "import numpy as np\n",
    "from random import random\n",
    "from functools import reduce\n",
    "from queue import PriorityQueue"
   ]
  },
  {
   "cell_type": "code",
   "execution_count": 3,
   "metadata": {},
   "outputs": [],
   "source": [
    "PROBLEM_SIZE = 5\n",
    "NUM_SETS = 10"
   ]
  },
  {
   "cell_type": "code",
   "execution_count": 103,
   "metadata": {},
   "outputs": [
    {
     "data": {
      "text/plain": [
       "[array([ True,  True,  True,  True, False]),\n",
       " array([False, False, False,  True, False]),\n",
       " array([False,  True,  True, False,  True]),\n",
       " array([False, False, False, False, False]),\n",
       " array([False, False, False, False, False]),\n",
       " array([False, False, False, False, False]),\n",
       " array([False,  True, False, False, False]),\n",
       " array([False,  True, False, False,  True]),\n",
       " array([False, False, False, False,  True]),\n",
       " array([False, False, False, False, False])]"
      ]
     },
     "execution_count": 103,
     "metadata": {},
     "output_type": "execute_result"
    }
   ],
   "source": [
    "sets = [np.array([random() < .2 for _ in range(PROBLEM_SIZE)]) for _ in range(NUM_SETS)]\n",
    "assert np.all(reduce(np.logical_or,[sets[i] for i in range(NUM_SETS)])), \"Not solvable\"\n",
    "sets\n",
    "\n",
    "\n",
    "\n",
    "#random() return a number, if it's <0.2 then i'll have true, otherwise false\n",
    "#the goal is to find the minimun number of sets which OR returns all true.\n",
    "#EXAMPLE:\n",
    "# array([False, False,  True,  True,  True])\n",
    "# array([ True,  True, False, False, False])\n",
    "# The OR will be all true, so this is a solution!!"
   ]
  },
  {
   "cell_type": "code",
   "execution_count": 157,
   "metadata": {},
   "outputs": [],
   "source": [
    "state = ({1,3,5}, {0,2,4,6,7})\n",
    "#We took 1,3,5 and not taken 0,2,4,6,7, we'll rapresent the states in this way, 2 sets."
   ]
  },
  {
   "cell_type": "code",
   "execution_count": 67,
   "metadata": {},
   "outputs": [],
   "source": [
    "def goal_check(state):\n",
    "    return np.all(reduce(np.logical_or,[sets[i] for i in state[1][0]],np.array([False for _ in range(PROBLEM_SIZE)])))\n",
    "#the reduce does the OR operation on the sets[i] for i in state[0], so the elements taken!!. Then return the AND between the elementes returned\n",
    "# by the reduce (by the np.all())."
   ]
  },
  {
   "cell_type": "code",
   "execution_count": 55,
   "metadata": {},
   "outputs": [
    {
     "data": {
      "text/plain": [
       "True"
      ]
     },
     "execution_count": 55,
     "metadata": {},
     "output_type": "execute_result"
    }
   ],
   "source": [
    "goal_check((0,(set({7,6}),set())))"
   ]
  },
  {
   "cell_type": "code",
   "execution_count": 104,
   "metadata": {},
   "outputs": [],
   "source": [
    "#We use a PriorityQueue whose cost is the n umber of taken elements, so the number of elements that are in the first set of the state\n",
    "frontier = PriorityQueue()\n",
    "initial_state = (set(),set(range(NUM_SETS))) #everithing not taken !\n",
    "frontier.put((0,initial_state)) #the number of taken elements is 0, everything is not taken\n",
    "\n",
    "state = frontier.get()\n",
    "\n",
    "while not goal_check(state):\n",
    "    for a in state[1][1]: #in state[1][1] I have all the elements that I didn't take\n",
    "        new_state = (state[1][0] | {a}, state[1][1] - {a}) #The | is UNION, - is DIFFERENCE\n",
    "        frontier.put((len(new_state[0]),new_state))\n",
    "    state = frontier.get()"
   ]
  },
  {
   "cell_type": "code",
   "execution_count": 105,
   "metadata": {},
   "outputs": [
    {
     "name": "stdout",
     "output_type": "stream",
     "text": [
      "True\n"
     ]
    },
    {
     "data": {
      "text/plain": [
       "(2, ({0, 2}, {1, 3, 4, 5, 6, 7, 8, 9}))"
      ]
     },
     "execution_count": 105,
     "metadata": {},
     "output_type": "execute_result"
    }
   ],
   "source": [
    "print(goal_check(state))\n",
    "state"
   ]
  }
 ],
 "metadata": {
  "kernelspec": {
   "display_name": "venv",
   "language": "python",
   "name": "python3"
  },
  "language_info": {
   "codemirror_mode": {
    "name": "ipython",
    "version": 3
   },
   "file_extension": ".py",
   "mimetype": "text/x-python",
   "name": "python",
   "nbconvert_exporter": "python",
   "pygments_lexer": "ipython3",
   "version": "3.11.6"
  }
 },
 "nbformat": 4,
 "nbformat_minor": 2
}
