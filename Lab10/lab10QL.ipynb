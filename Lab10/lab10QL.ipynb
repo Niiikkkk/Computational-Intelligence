{
 "cells": [
  {
   "cell_type": "markdown",
   "metadata": {},
   "source": [
    "## QL player\n",
    "At each step gets at reward, not just at the end of the episode. \n",
    "I have a Q-table that contains all the states and actions."
   ]
  },
  {
   "cell_type": "code",
   "execution_count": 103,
   "metadata": {},
   "outputs": [],
   "source": [
    "from collections import defaultdict\n",
    "import numpy as np\n",
    "import random\n",
    "from tqdm.auto import tqdm"
   ]
  },
  {
   "cell_type": "code",
   "execution_count": 104,
   "metadata": {},
   "outputs": [],
   "source": [
    "class State:\n",
    "    def __init__(self):\n",
    "        self.board = np.zeros((3,3))\n",
    "        self.isEnd = False\n",
    "        self.current_player = 1 #1 is p1, -1 is p2\n",
    "\n",
    "    def available_moves(self):\n",
    "        pos = []\n",
    "        for i in range(3):\n",
    "            for j in range(3):\n",
    "                if self.board[i,j] == 0:\n",
    "                    pos.append((i,j))\n",
    "        return pos\n",
    "    \n",
    "    def make_move(self, position):\n",
    "        if position not in self.available_moves():\n",
    "            return None\n",
    "        self.board[position] = self.current_player\n",
    "        self.current_player = self.current_player*-1\n",
    "\n",
    "    def getHash(self):\n",
    "        self.boardHash = str(self.board.reshape(3 * 3))\n",
    "        return self.boardHash\n",
    "\n",
    "    def check_winner(self):\n",
    "        #check if rows contains 3 or -3 (some one win)\n",
    "        for i in range(3): \n",
    "            if sum(self.board[i,:]) == 3:\n",
    "                self.isEnd = True\n",
    "                return 1 #player 1 won\n",
    "        for i in range(3): #loop on the rows\n",
    "            if sum(self.board[i,:]) == -3:\n",
    "                self.isEnd = True\n",
    "                return -1 #player 2 won\n",
    "        \n",
    "        #check if col contains 3 or -3\n",
    "        for i in range(3):\n",
    "            if sum(self.board[:,i]) == 3:\n",
    "                self.isEnd = True\n",
    "                return 1\n",
    "        for i in range(3):\n",
    "            if sum(self.board[:,i]) == -3:\n",
    "                self.isEnd = True\n",
    "                return -1\n",
    "        \n",
    "        #check diagonal win\n",
    "        diag_sum = sum([self.board[i,i] for i in range(3)])\n",
    "        if diag_sum == 3:\n",
    "            self.isEnd= True\n",
    "            return 1\n",
    "        if diag_sum == -3:\n",
    "            self.isEnd = True\n",
    "            return -1\n",
    "        \n",
    "        diag_sum = sum([self.board[i,3-i-1] for i in range(3)])\n",
    "        if diag_sum == 3:\n",
    "            self.isEnd= True\n",
    "            return 1\n",
    "        if diag_sum == -3:\n",
    "            self.isEnd = True\n",
    "            return -1\n",
    "        \n",
    "        #here no one won..\n",
    "        if len(self.available_moves())==0 :\n",
    "            self.isEnd = True\n",
    "            return 0 #no one won\n",
    "        \n",
    "        return None #Here there are still moves, so keep playing !!!\n",
    "\n",
    "    def reset(self):\n",
    "        self.board = np.zeros((3, 3))\n",
    "        self.boardHash = None\n",
    "        self.isEnd = False\n",
    "        self.playerSymbol = 1\n",
    "\n",
    "    def showBoard(self):\n",
    "        # p1: x  p2: o\n",
    "        for i in range(0, 3):\n",
    "            print('-------------')\n",
    "            out = '| '\n",
    "            for j in range(0, 3):\n",
    "                if self.board[i, j] == 1:\n",
    "                    token = 'x'\n",
    "                if self.board[i, j] == -1:\n",
    "                    token = 'o'\n",
    "                if self.board[i, j] == 0:\n",
    "                    token = ' '\n",
    "                out += token + ' | '\n",
    "            print(out)\n",
    "        print('-------------')    "
   ]
  },
  {
   "cell_type": "markdown",
   "metadata": {},
   "source": [
    "## QL player\n",
    "The reward() return 1 if the player won, -1 if the player lost and 0 if no one won, or the game is still going"
   ]
  },
  {
   "cell_type": "code",
   "execution_count": 105,
   "metadata": {},
   "outputs": [],
   "source": [
    "class QL:\n",
    "    def __init__(self,name,alpha,eps,disc_factor):\n",
    "        self.Q = defaultdict(lambda: 0.0)\n",
    "        self.name = name\n",
    "        self.alpha = alpha\n",
    "        self.eps = eps\n",
    "        self.disc_factor = disc_factor\n",
    "        self.states = []\n",
    "\n",
    "    def chooseAction(self,board,moves):\n",
    "        if random.random() < self.eps:\n",
    "            return random.choice(moves)\n",
    "        else:\n",
    "            values = [self.Q[(board,a)] for a in moves]\n",
    "            max_value = np.max(values)\n",
    "            if values.count(max_value) > 1:\n",
    "                best_move = [i for i in range(len(values)) if values[i] == max_value]\n",
    "                i = random.choice(best_move)\n",
    "            else:\n",
    "                i = values.index(max_value)\n",
    "            return moves[i]\n",
    "    \n",
    "    def addState(self,state,move):\n",
    "        self.states.append((state,move))\n",
    "\n",
    "    def reset(self):\n",
    "        self.states=[]\n",
    "\n",
    "    def update_Q(self,reward):\n",
    "        for st in reversed(self.states):\n",
    "            current_q_value = self.Q[(st[0], st[1])] # st[0] = board state st[1] = action\n",
    "            reward = current_q_value + self.alpha * (self.disc_factor * reward - current_q_value)\n",
    "            self.Q[(st[0], st[1])] = reward\n",
    "    "
   ]
  },
  {
   "cell_type": "markdown",
   "metadata": {},
   "source": [
    "## Random player"
   ]
  },
  {
   "cell_type": "code",
   "execution_count": 106,
   "metadata": {},
   "outputs": [],
   "source": [
    "class RandomPlayer:\n",
    "    def __init__(self, name):\n",
    "        self.name = \"random\"\n",
    "\n",
    "    def chooseAction(self, game,positions):\n",
    "        return random.choice(positions)\n",
    "    \n",
    "    def addState(self,state):\n",
    "        pass\n",
    "            \n",
    "    def reset(self):\n",
    "        pass\n",
    "\n",
    "    def reward(self,rew):\n",
    "        pass\n",
    "\n",
    "    def update_Q(self,rew):\n",
    "        pass"
   ]
  },
  {
   "cell_type": "markdown",
   "metadata": {},
   "source": [
    "## Train and Test QL Player"
   ]
  },
  {
   "cell_type": "code",
   "execution_count": 117,
   "metadata": {},
   "outputs": [],
   "source": [
    "def train(game:State, p1: QL, p2: RandomPlayer,epochs = 20000):\n",
    "    for epoch in tqdm(range(epochs)):\n",
    "        game.reset()\n",
    "        p1.reset()\n",
    "        p2.reset()\n",
    "        while game.check_winner() is None:\n",
    "            #Player 1\n",
    "            possilbe_moves = game.available_moves()\n",
    "            move = p1.chooseAction(game.getHash(),possilbe_moves)\n",
    "            p1.addState(game.getHash(),move)\n",
    "            game.make_move(move)\n",
    "            if game.check_winner() is not None:\n",
    "                if game.check_winner() == 1:\n",
    "                    p1.update_Q(1) #player 1 won, so give 1 reward\n",
    "                    p2.update_Q(0)\n",
    "                elif game.check_winner() == -1:\n",
    "                    p1.update_Q(0)\n",
    "                    p2.update_Q(1)\n",
    "                else:\n",
    "                    p1.update_Q(0.1) #give a less reward because we don't want ties\n",
    "                    p2.update_Q(0.5)\n",
    "            else:\n",
    "                #Player 2\n",
    "                possilbe_moves = game.available_moves()\n",
    "                move = p2.chooseAction(game.getHash(),possilbe_moves)\n",
    "                game.make_move(move)\n",
    "                if game.check_winner() is not None:\n",
    "                    if game.check_winner() == 1:\n",
    "                        p1.update_Q(1) #player 1 won, so give 1 reward\n",
    "                        p2.update_Q(0)\n",
    "                    elif game.check_winner() == -1:\n",
    "                        p1.update_Q(0)\n",
    "                        p2.update_Q(1)\n",
    "                    else:\n",
    "                        p1.update_Q(0.1) #give a less reward because we don't want ties\n",
    "                        p2.update_Q(0.5)\n",
    "\n",
    "def test(game, p1, p2):\n",
    "    while game.check_winner() is None:\n",
    "        #Player 1\n",
    "        possilbe_moves = game.available_moves()\n",
    "        move = p1.chooseAction(game.getHash(),possilbe_moves)\n",
    "        game.make_move(move)\n",
    "        if len(game.available_moves()) == 0:\n",
    "            break\n",
    "        #Player 2\n",
    "        possilbe_moves = game.available_moves()\n",
    "        move = p2.chooseAction(game.getHash(),possilbe_moves)\n",
    "        game.make_move(move)\n",
    "    return game.check_winner()"
   ]
  },
  {
   "cell_type": "code",
   "execution_count": 121,
   "metadata": {},
   "outputs": [
    {
     "name": "stderr",
     "output_type": "stream",
     "text": [
      "100%|██████████| 200000/200000 [01:34<00:00, 2114.41it/s]\n"
     ]
    }
   ],
   "source": [
    "p1 = QL(\"QL\",0.2,0.2,0.9)\n",
    "p2 = RandomPlayer(\"Random\")\n",
    "game = State()\n",
    "\n",
    "train(game,p1,p2,200000)\n",
    "game.reset()"
   ]
  },
  {
   "cell_type": "code",
   "execution_count": 134,
   "metadata": {},
   "outputs": [
    {
     "name": "stdout",
     "output_type": "stream",
     "text": [
      "Win: 78.7\n"
     ]
    }
   ],
   "source": [
    "test_loop = 1000\n",
    "win = 0\n",
    "tie = 0\n",
    "for t in range(test_loop):\n",
    "    w = test(game,p1,p2)\n",
    "    game.reset()\n",
    "    if w == 1:\n",
    "        win +=1\n",
    "    if w == 0:\n",
    "        tie +=1\n",
    "print(f\"Win: {win/test_loop*100}\")"
   ]
  }
 ],
 "metadata": {
  "kernelspec": {
   "display_name": "venv",
   "language": "python",
   "name": "python3"
  },
  "language_info": {
   "codemirror_mode": {
    "name": "ipython",
    "version": 3
   },
   "file_extension": ".py",
   "mimetype": "text/x-python",
   "name": "python",
   "nbconvert_exporter": "python",
   "pygments_lexer": "ipython3",
   "version": "3.11.6"
  }
 },
 "nbformat": 4,
 "nbformat_minor": 2
}
