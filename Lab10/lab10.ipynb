{
 "cells": [
  {
   "cell_type": "markdown",
   "metadata": {},
   "source": [
    "Copyright **`(c)`** 2023 Giovanni Squillero `<giovanni.squillero@polito.it>`  \n",
    "[`https://github.com/squillero/computational-intelligence`](https://github.com/squillero/computational-intelligence)  \n",
    "Free for personal or classroom use; see [`LICENSE.md`](https://github.com/squillero/computational-intelligence/blob/master/LICENSE.md) for details.  "
   ]
  },
  {
   "cell_type": "markdown",
   "metadata": {},
   "source": [
    "# LAB10\n",
    "\n",
    "Use reinforcement learning to devise a tic-tac-toe player.\n",
    "\n",
    "### Deadlines:\n",
    "\n",
    "* Submission: Sunday, December 17 ([CET](https://www.timeanddate.com/time/zones/cet))\n",
    "* Reviews: Dies Natalis Solis Invicti ([CET](https://en.wikipedia.org/wiki/Sol_Invictus))\n",
    "\n",
    "Notes:\n",
    "\n",
    "* Reviews will be assigned  on Monday, December 4\n",
    "* You need to commit in order to be selected as a reviewer (ie. better to commit an empty work than not to commit)"
   ]
  },
  {
   "cell_type": "code",
   "execution_count": 17,
   "metadata": {},
   "outputs": [],
   "source": [
    "import numpy as np\n",
    "\n",
    "class State:\n",
    "    def __init__(self,p1,p2):\n",
    "        self.board = np.zeros((3,3))\n",
    "        self.p1 = p1\n",
    "        self.p2 = p2\n",
    "        self.isEnd = False\n",
    "        self.current_player = 1 #1 is p1, -1 is p2\n",
    "\n",
    "    def available_positions(self):\n",
    "        pos = []\n",
    "        for i in range(3):\n",
    "            for j in range(3):\n",
    "                if self.board[i,j] == 0:\n",
    "                    pos.append((i,j))\n",
    "        return pos\n",
    "    \n",
    "    def make_move(self, position):\n",
    "        if position not in self.available_positions():\n",
    "            return None\n",
    "        self.board[position]=self.current_player\n",
    "        self.current_player = self.current_player*-1\n",
    "\n",
    "    def check_winner(self):\n",
    "        #check if rows contains 3 or -3 (some one win)\n",
    "        for i in range(3): \n",
    "            if sum(self.board[i,:]) == 3:\n",
    "                self.isEnd = True\n",
    "                return 1 #player 1 won\n",
    "        for i in range(3): #loop on the rows\n",
    "            if sum(self.board[i,:]) == -3:\n",
    "                self.isEnd = True\n",
    "                return -1 #player 2 won\n",
    "        \n",
    "        #check if col contains 3 or -3\n",
    "        for i in range(3):\n",
    "            if sum(self.board[:,i]) == 3:\n",
    "                self.isEnd = True\n",
    "                return 1\n",
    "        for i in range(3):\n",
    "            if sum(self.board[:,i]) == -3:\n",
    "                self.isEnd = True\n",
    "                return -1\n",
    "        \n",
    "        #check diagonal win\n",
    "        diag_sum = sum([self.board[i,i] for i in range(3)])\n",
    "        if diag_sum == 3:\n",
    "            self.isEnd= True\n",
    "            return 1\n",
    "        if diag_sum == -3:\n",
    "            self.isEnd = True\n",
    "            return -1\n",
    "        \n",
    "        diag_sum = sum([self.board[i,3-i-1] for i in range(3)])\n",
    "        if diag_sum == 3:\n",
    "            self.isEnd= True\n",
    "            return 1\n",
    "        if diag_sum == -3:\n",
    "            self.isEnd = True\n",
    "            return -1\n",
    "        \n",
    "        #here no one won..\n",
    "        if len(self.available_positions())==0 :\n",
    "            self.isEnd = True\n",
    "            return 0 #no one won\n",
    "        \n",
    "        return None #Here there are still moves, so keep playing !!!\n",
    "    \n",
    "    def reward(self):\n",
    "        result = self.check_winner()\n",
    "\n",
    "        if result == 1:\n",
    "            self.p1.give_rew(1)\n",
    "            self.p2.give_rew(0)\n",
    "        elif result == -1:\n",
    "            self.p1.give_rew(0)\n",
    "            self.p2.give_rew(1)\n",
    "        else:\n",
    "            self.p1.give_rew(0.5)\n",
    "            self.p2.give_rew(0.5)"
   ]
  },
  {
   "cell_type": "code",
   "execution_count": 19,
   "metadata": {},
   "outputs": [
    {
     "data": {
      "text/plain": [
       "array([[1., 0., 0.],\n",
       "       [0., 0., 0.],\n",
       "       [0., 0., 0.]])"
      ]
     },
     "execution_count": 19,
     "metadata": {},
     "output_type": "execute_result"
    }
   ],
   "source": [
    "x = State(1,2)\n",
    "move = x.available_positions()[0]\n",
    "x.make_move(move)\n",
    "x.board"
   ]
  }
 ],
 "metadata": {
  "kernelspec": {
   "display_name": "ci-fLJ3OwGs-py3.12",
   "language": "python",
   "name": "python3"
  },
  "language_info": {
   "codemirror_mode": {
    "name": "ipython",
    "version": 3
   },
   "file_extension": ".py",
   "mimetype": "text/x-python",
   "name": "python",
   "nbconvert_exporter": "python",
   "pygments_lexer": "ipython3",
   "version": "3.11.6"
  }
 },
 "nbformat": 4,
 "nbformat_minor": 2
}
